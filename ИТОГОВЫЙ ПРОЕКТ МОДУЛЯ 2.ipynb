{
 "cells": [
  {
   "cell_type": "markdown",
   "metadata": {},
   "source": [
    "Привет, Анна!\n",
    "\n",
    "Меня зовут Светлана Медведева и я буду проверять Твою работу. Предлагаю общаться на \"ты\". Если Тебе такой вариант не удобен, то пожалуйста дай знать. Я сразу перейду на \"Вы\".\n",
    "\n",
    "При обнаружении у Тебя в работе ошибки, в первый раз я лишь укажу на ее наличие и у Тебя будет возможность самому найти её и исправить. В реальной работе твой начальник будет поступать также, а я пытаюсь подготовить тебя именно к работе Data Scientist. Однако, если ты пока не справишься с такой задачей - при следующей проверке я дам более точную подсказку.\n",
    "\n",
    "Просьба при доработке работы оставлять мои комментарии без изменений.\n",
    "\n",
    "Комментарии я разделяю на следующие категории:\n",
    "\n",
    "<div class=\"alert alert-block alert-success\">\n",
    "<h2> Комментарий ревьюера ✔️</h2>\n",
    "    \n",
    "В случае если всё верно!\n",
    "</div>\n",
    "\n",
    "\n",
    "<div class=\"alert alert-block alert-warning\">\n",
    "<h2> Комментарий ревьюера ⚠️</h2>\n",
    "    \n",
    "В случае если можно что-то доработать, но эта доработка не критична или если есть варианты улучшения работы.\n",
    "</div>\n",
    "\n",
    "<div class=\"alert alert-block alert-danger\">\n",
    "<h2> Комментарий ревьюера ❌</h2>\n",
    "    \n",
    "Замечания, которые нужно исправить. Без исправления этих замечаний проект принят не может быть.\n",
    "</div>\n",
    "\n",
    "\n",
    "<div class=\"alert alert-block alert-info\">\n",
    "Дополнительные материалы, выходящие за рамки программы.\n",
    "</div>\n",
    "\n",
    "## Ревью v. 1:\n",
    "\n",
    "У Тебя хорошее начало проекта, но нужно исправить критичные комментарии и после этого можно будет продолжить выполнение проекта. Будет здорово, если учтёшь комментарии на улучшение проекта)\n",
    "\n",
    "Жду проект на проверку:)\n",
    "\n",
    "Успехов!\n",
    "\n",
    "## Ревью v. 2:\n",
    "\n",
    "Молодец, что исправила критичные комментарии и теперь можно продолжить выполнение проекта.\n",
    "\n",
    "Жду вторую часть проекта на проверку:)\n",
    "\n",
    "Успехов!\n",
    "\n",
    "## Ревью v. 3:\n",
    "\n",
    "Отлично, что продолжила анализ стартапов и здорово, что подвела итог исследования. Однако, рекомендую сформулировать рекомендации для инвесторов в зависимости от их предпочтений. Рекомендации по итогам преокта это важная для заказчика часть работы.\n",
    "\n",
    "Поздравляю, проект принят:)\n",
    "\n",
    "Успехов!"
   ]
  },
  {
   "cell_type": "markdown",
   "metadata": {
    "id": "4mJbK1knrJgz"
   },
   "source": [
    "# Проект: Исследование стартапов"
   ]
  },
  {
   "cell_type": "markdown",
   "metadata": {
    "id": "P6j0r3worJg0"
   },
   "source": [
    "## Введение"
   ]
  },
  {
   "cell_type": "markdown",
   "metadata": {
    "id": "8lQtbsIUyFG6"
   },
   "source": [
    "Задача проекта:\n",
    "Исследовать исторические данные о стартапах, чтобы понять, какие факторы влияют на их успешность и потенциальную доходность для инвестиций.\n",
    "\n",
    "Цель проекта:\n",
    "Подготовить датасет и проверить, что данные в нём соответствуют здравому смыслу, а также ответить на вопросы заказчика как о предобработке, так и о значении данных для бизнеса.\n",
    "\n",
    "Данные для проекта:\n",
    "- Таблица acquisition. Содержит информацию о покупках одними компаниями других компаний\n",
    "- Таблица company_and_rounds. Содержит информацию о компаниях и раундах финансирования\n",
    "- Таблица education. Содержит информацию об образовании сотрудника\n",
    "- Таблица people. Содержит информацию о сотрудниках\n",
    "- Таблица degrees. Содержит информацию о типе образования сотрудника\n",
    "\n",
    "Дополнительные таблицы\n",
    "- Таблица fund. Содержит информацию о фондах\n",
    "- Таблица investment. Содержит информацию о раундах инвестирования\n",
    "\n",
    "Структура проекта:\n",
    "1. Загрузка данных и знакомство с ними.\n",
    "2. Предобработка данных.\n",
    "3. Исследовательский анализ данных.\n",
    "4. Итоговые выводы."
   ]
  },
  {
   "cell_type": "markdown",
   "metadata": {},
   "source": [
    "<div class=\"alert alert-block alert-success\">\n",
    "<h2> Комментарий ревьюера ✔️</h2>\n",
    "    \n",
    "Молодец, что сформулировала цель, но было ы здорово подробнее описать состав полей используемых данных.\n",
    "</div>"
   ]
  },
  {
   "cell_type": "markdown",
   "metadata": {
    "id": "xqr6uttCrJg0"
   },
   "source": [
    "\n",
    "## Шаг 1. Знакомство с данными: загрузка и первичная предобработка\n",
    "\n",
    "Названия файлов:\n",
    "* acquisition.csv\n",
    "* company_and_rounds.csv\n",
    "* people.csv\n",
    "* education.csv\n",
    "* degrees.csv\n",
    "\n",
    "Опциональные датасеты:\n",
    "* fund.csv\n",
    "* investment.csv\n",
    "\n",
    "\n",
    "Они находятся в папке datasets, если вы выполняете работу на платформе. В случае, если вы делаете работу локально, доступ к файлам в папке можно получить по адресу `https://code.s3.yandex.net/datasets/` + имя файла.\n",
    "\n",
    "### 1.1. Вывод общей информации, исправление названия столбцов\n",
    "\n",
    "- Загрузите все данные по проекту.\n",
    "- Проверьте названия столбцов.\n",
    "- Выведите информацию, которая необходима вам для принятия решений о предобработке, для каждого из датасетов."
   ]
  },
  {
   "cell_type": "code",
   "execution_count": 1,
   "metadata": {
    "colab": {
     "base_uri": "https://localhost:8080/"
    },
    "id": "W_W4jRazrJg0",
    "outputId": "d2409aad-233f-4bb4-ec71-7da96594f9df",
    "vscode": {
     "languageId": "plaintext"
    }
   },
   "outputs": [],
   "source": [
    "import numpy as np  # Добавляем импорт NumPy\n",
    "import pandas as pd\n",
    "import matplotlib.pyplot as plt\n",
    "import seaborn as sns"
   ]
  },
  {
   "cell_type": "code",
   "execution_count": 2,
   "metadata": {
    "id": "2Tm4Pk__Felf"
   },
   "outputs": [
    {
     "data": {
      "text/html": [
       "<div>\n",
       "<style scoped>\n",
       "    .dataframe tbody tr th:only-of-type {\n",
       "        vertical-align: middle;\n",
       "    }\n",
       "\n",
       "    .dataframe tbody tr th {\n",
       "        vertical-align: top;\n",
       "    }\n",
       "\n",
       "    .dataframe thead th {\n",
       "        text-align: right;\n",
       "    }\n",
       "</style>\n",
       "<table border=\"1\" class=\"dataframe\">\n",
       "  <thead>\n",
       "    <tr style=\"text-align: right;\">\n",
       "      <th></th>\n",
       "      <th>id</th>\n",
       "      <th>acquiring_company_id</th>\n",
       "      <th>acquired_company_id</th>\n",
       "      <th>term_code</th>\n",
       "      <th>price_amount</th>\n",
       "      <th>acquired_at</th>\n",
       "    </tr>\n",
       "  </thead>\n",
       "  <tbody>\n",
       "    <tr>\n",
       "      <th>0</th>\n",
       "      <td>1</td>\n",
       "      <td>11</td>\n",
       "      <td>10</td>\n",
       "      <td>NaN</td>\n",
       "      <td>20000000</td>\n",
       "      <td>2007-05-30</td>\n",
       "    </tr>\n",
       "    <tr>\n",
       "      <th>1</th>\n",
       "      <td>7</td>\n",
       "      <td>59</td>\n",
       "      <td>72</td>\n",
       "      <td>cash</td>\n",
       "      <td>60000000</td>\n",
       "      <td>2007-07-01</td>\n",
       "    </tr>\n",
       "    <tr>\n",
       "      <th>2</th>\n",
       "      <td>8</td>\n",
       "      <td>24</td>\n",
       "      <td>132</td>\n",
       "      <td>cash</td>\n",
       "      <td>280000000</td>\n",
       "      <td>2007-05-01</td>\n",
       "    </tr>\n",
       "    <tr>\n",
       "      <th>3</th>\n",
       "      <td>9</td>\n",
       "      <td>59</td>\n",
       "      <td>155</td>\n",
       "      <td>cash</td>\n",
       "      <td>100000000</td>\n",
       "      <td>2007-06-01</td>\n",
       "    </tr>\n",
       "    <tr>\n",
       "      <th>4</th>\n",
       "      <td>10</td>\n",
       "      <td>212</td>\n",
       "      <td>215</td>\n",
       "      <td>cash</td>\n",
       "      <td>25000000</td>\n",
       "      <td>2007-07-01</td>\n",
       "    </tr>\n",
       "  </tbody>\n",
       "</table>\n",
       "</div>"
      ],
      "text/plain": [
       "   id  acquiring_company_id  acquired_company_id term_code  price_amount  \\\n",
       "0   1                    11                   10       NaN      20000000   \n",
       "1   7                    59                   72      cash      60000000   \n",
       "2   8                    24                  132      cash     280000000   \n",
       "3   9                    59                  155      cash     100000000   \n",
       "4  10                   212                  215      cash      25000000   \n",
       "\n",
       "  acquired_at  \n",
       "0  2007-05-30  \n",
       "1  2007-07-01  \n",
       "2  2007-05-01  \n",
       "3  2007-06-01  \n",
       "4  2007-07-01  "
      ]
     },
     "execution_count": 2,
     "metadata": {},
     "output_type": "execute_result"
    }
   ],
   "source": [
    "# Выгружаем данные в переменные \n",
    "acquisition = pd.read_csv('https://code.s3.yandex.net/datasets/acquisition.csv')\n",
    "acquisition.head()"
   ]
  },
  {
   "cell_type": "code",
   "execution_count": 3,
   "metadata": {},
   "outputs": [
    {
     "name": "stdout",
     "output_type": "stream",
     "text": [
      "<class 'pandas.core.frame.DataFrame'>\n",
      "RangeIndex: 9407 entries, 0 to 9406\n",
      "Data columns (total 6 columns):\n",
      " #   Column                Non-Null Count  Dtype \n",
      "---  ------                --------------  ----- \n",
      " 0   id                    9407 non-null   int64 \n",
      " 1   acquiring_company_id  9407 non-null   int64 \n",
      " 2   acquired_company_id   9407 non-null   int64 \n",
      " 3   term_code             1831 non-null   object\n",
      " 4   price_amount          9407 non-null   int64 \n",
      " 5   acquired_at           9378 non-null   object\n",
      "dtypes: int64(4), object(2)\n",
      "memory usage: 441.1+ KB\n"
     ]
    }
   ],
   "source": [
    "acquisition.info()"
   ]
  },
  {
   "cell_type": "code",
   "execution_count": 4,
   "metadata": {},
   "outputs": [],
   "source": [
    "# Заменили term_code на unknow\n",
    "acquisition['term_code'] = acquisition['term_code'].fillna('unknow')"
   ]
  },
  {
   "cell_type": "markdown",
   "metadata": {},
   "source": [
    "<div class=\"alert alert-block alert-success\">\n",
    "<h2> Комментарий ревьюера ✔️</h2>\n",
    "    \n",
    "Да, пропуски в столбце `term_code` на значение `заглушку`. Это позволит избежать искажения данных и сохранить строки с пропусками в этом столбце. \n",
    "</div>"
   ]
  },
  {
   "cell_type": "code",
   "execution_count": 5,
   "metadata": {},
   "outputs": [
    {
     "data": {
      "text/plain": [
       "Index(['id', 'acquiring_company_id', 'acquired_company_id', 'term_code',\n",
       "       'price_amount', 'acquired_at'],\n",
       "      dtype='object')"
      ]
     },
     "execution_count": 5,
     "metadata": {},
     "output_type": "execute_result"
    }
   ],
   "source": [
    "# Выводим названия столбцов датафрейма\n",
    "acquisition.columns"
   ]
  },
  {
   "cell_type": "markdown",
   "metadata": {},
   "source": [
    "Названия столбцов корректные"
   ]
  },
  {
   "cell_type": "code",
   "execution_count": 6,
   "metadata": {},
   "outputs": [
    {
     "data": {
      "text/html": [
       "<div>\n",
       "<style scoped>\n",
       "    .dataframe tbody tr th:only-of-type {\n",
       "        vertical-align: middle;\n",
       "    }\n",
       "\n",
       "    .dataframe tbody tr th {\n",
       "        vertical-align: top;\n",
       "    }\n",
       "\n",
       "    .dataframe thead th {\n",
       "        text-align: right;\n",
       "    }\n",
       "</style>\n",
       "<table border=\"1\" class=\"dataframe\">\n",
       "  <thead>\n",
       "    <tr style=\"text-align: right;\">\n",
       "      <th></th>\n",
       "      <th>company  ID</th>\n",
       "      <th>name</th>\n",
       "      <th>category  code</th>\n",
       "      <th>status</th>\n",
       "      <th>founded  at</th>\n",
       "      <th>closed  at</th>\n",
       "      <th>domain</th>\n",
       "      <th>network  username</th>\n",
       "      <th>country  code</th>\n",
       "      <th>investment  rounds</th>\n",
       "      <th>...</th>\n",
       "      <th>milestones</th>\n",
       "      <th>funding  round  id</th>\n",
       "      <th>company  id</th>\n",
       "      <th>funded  at</th>\n",
       "      <th>funding  round  type</th>\n",
       "      <th>raised  amount</th>\n",
       "      <th>pre  money  valuation</th>\n",
       "      <th>participants</th>\n",
       "      <th>is  first  round</th>\n",
       "      <th>is  last  round</th>\n",
       "    </tr>\n",
       "  </thead>\n",
       "  <tbody>\n",
       "    <tr>\n",
       "      <th>0</th>\n",
       "      <td>1.0</td>\n",
       "      <td>Wetpaint</td>\n",
       "      <td>web</td>\n",
       "      <td>operating</td>\n",
       "      <td>2005-10-17</td>\n",
       "      <td>NaN</td>\n",
       "      <td>wetpaint-inc.com</td>\n",
       "      <td>BachelrWetpaint</td>\n",
       "      <td>USA</td>\n",
       "      <td>0.0</td>\n",
       "      <td>...</td>\n",
       "      <td>5.0</td>\n",
       "      <td>888.0</td>\n",
       "      <td>1.0</td>\n",
       "      <td>2005-10-01</td>\n",
       "      <td>series-a</td>\n",
       "      <td>5250000.0</td>\n",
       "      <td>0.0</td>\n",
       "      <td>2.0</td>\n",
       "      <td>0.0</td>\n",
       "      <td>1.0</td>\n",
       "    </tr>\n",
       "    <tr>\n",
       "      <th>1</th>\n",
       "      <td>1.0</td>\n",
       "      <td>Wetpaint</td>\n",
       "      <td>web</td>\n",
       "      <td>operating</td>\n",
       "      <td>2005-10-17</td>\n",
       "      <td>NaN</td>\n",
       "      <td>wetpaint-inc.com</td>\n",
       "      <td>BachelrWetpaint</td>\n",
       "      <td>USA</td>\n",
       "      <td>0.0</td>\n",
       "      <td>...</td>\n",
       "      <td>5.0</td>\n",
       "      <td>889.0</td>\n",
       "      <td>1.0</td>\n",
       "      <td>2007-01-01</td>\n",
       "      <td>series-b</td>\n",
       "      <td>9500000.0</td>\n",
       "      <td>0.0</td>\n",
       "      <td>3.0</td>\n",
       "      <td>0.0</td>\n",
       "      <td>0.0</td>\n",
       "    </tr>\n",
       "    <tr>\n",
       "      <th>2</th>\n",
       "      <td>1.0</td>\n",
       "      <td>Wetpaint</td>\n",
       "      <td>web</td>\n",
       "      <td>operating</td>\n",
       "      <td>2005-10-17</td>\n",
       "      <td>NaN</td>\n",
       "      <td>wetpaint-inc.com</td>\n",
       "      <td>BachelrWetpaint</td>\n",
       "      <td>USA</td>\n",
       "      <td>0.0</td>\n",
       "      <td>...</td>\n",
       "      <td>5.0</td>\n",
       "      <td>2312.0</td>\n",
       "      <td>1.0</td>\n",
       "      <td>2008-05-19</td>\n",
       "      <td>series-c+</td>\n",
       "      <td>25000000.0</td>\n",
       "      <td>0.0</td>\n",
       "      <td>4.0</td>\n",
       "      <td>1.0</td>\n",
       "      <td>0.0</td>\n",
       "    </tr>\n",
       "    <tr>\n",
       "      <th>3</th>\n",
       "      <td>10.0</td>\n",
       "      <td>Flektor</td>\n",
       "      <td>games_video</td>\n",
       "      <td>acquired</td>\n",
       "      <td>NaN</td>\n",
       "      <td>NaN</td>\n",
       "      <td>flektor.com</td>\n",
       "      <td>NaN</td>\n",
       "      <td>USA</td>\n",
       "      <td>0.0</td>\n",
       "      <td>...</td>\n",
       "      <td>0.0</td>\n",
       "      <td>NaN</td>\n",
       "      <td>NaN</td>\n",
       "      <td>NaN</td>\n",
       "      <td>NaN</td>\n",
       "      <td>NaN</td>\n",
       "      <td>NaN</td>\n",
       "      <td>NaN</td>\n",
       "      <td>NaN</td>\n",
       "      <td>NaN</td>\n",
       "    </tr>\n",
       "    <tr>\n",
       "      <th>4</th>\n",
       "      <td>100.0</td>\n",
       "      <td>There</td>\n",
       "      <td>games_video</td>\n",
       "      <td>acquired</td>\n",
       "      <td>NaN</td>\n",
       "      <td>NaN</td>\n",
       "      <td>there.com</td>\n",
       "      <td>NaN</td>\n",
       "      <td>USA</td>\n",
       "      <td>0.0</td>\n",
       "      <td>...</td>\n",
       "      <td>4.0</td>\n",
       "      <td>NaN</td>\n",
       "      <td>NaN</td>\n",
       "      <td>NaN</td>\n",
       "      <td>NaN</td>\n",
       "      <td>NaN</td>\n",
       "      <td>NaN</td>\n",
       "      <td>NaN</td>\n",
       "      <td>NaN</td>\n",
       "      <td>NaN</td>\n",
       "    </tr>\n",
       "  </tbody>\n",
       "</table>\n",
       "<p>5 rows × 22 columns</p>\n",
       "</div>"
      ],
      "text/plain": [
       "   company  ID      name category  code     status founded  at closed  at  \\\n",
       "0          1.0  Wetpaint            web  operating  2005-10-17        NaN   \n",
       "1          1.0  Wetpaint            web  operating  2005-10-17        NaN   \n",
       "2          1.0  Wetpaint            web  operating  2005-10-17        NaN   \n",
       "3         10.0   Flektor    games_video   acquired         NaN        NaN   \n",
       "4        100.0     There    games_video   acquired         NaN        NaN   \n",
       "\n",
       "             domain network  username country  code  investment  rounds  ...  \\\n",
       "0  wetpaint-inc.com   BachelrWetpaint           USA                 0.0  ...   \n",
       "1  wetpaint-inc.com   BachelrWetpaint           USA                 0.0  ...   \n",
       "2  wetpaint-inc.com   BachelrWetpaint           USA                 0.0  ...   \n",
       "3       flektor.com               NaN           USA                 0.0  ...   \n",
       "4         there.com               NaN           USA                 0.0  ...   \n",
       "\n",
       "   milestones  funding  round  id  company  id  funded  at  \\\n",
       "0         5.0               888.0          1.0  2005-10-01   \n",
       "1         5.0               889.0          1.0  2007-01-01   \n",
       "2         5.0              2312.0          1.0  2008-05-19   \n",
       "3         0.0                 NaN          NaN         NaN   \n",
       "4         4.0                 NaN          NaN         NaN   \n",
       "\n",
       "   funding  round  type raised  amount pre  money  valuation  participants  \\\n",
       "0              series-a      5250000.0                   0.0           2.0   \n",
       "1              series-b      9500000.0                   0.0           3.0   \n",
       "2             series-c+     25000000.0                   0.0           4.0   \n",
       "3                   NaN            NaN                   NaN           NaN   \n",
       "4                   NaN            NaN                   NaN           NaN   \n",
       "\n",
       "   is  first  round  is  last  round  \n",
       "0               0.0              1.0  \n",
       "1               0.0              0.0  \n",
       "2               1.0              0.0  \n",
       "3               NaN              NaN  \n",
       "4               NaN              NaN  \n",
       "\n",
       "[5 rows x 22 columns]"
      ]
     },
     "execution_count": 6,
     "metadata": {},
     "output_type": "execute_result"
    }
   ],
   "source": [
    "# Выгружаем данные в переменные \n",
    "company_and_rounds = pd.read_csv('https://code.s3.yandex.net/datasets/company_and_rounds.csv')\n",
    "company_and_rounds.head()"
   ]
  },
  {
   "cell_type": "markdown",
   "metadata": {},
   "source": [
    "<div class=\"alert alert-block alert-warning\">\n",
    "<h2> Комментарий ревьюера ⚠️</h2>\n",
    "    \n",
    "Для оптимизации кода советую выделить `/https://code.s3.yandex.net/datasets/` в отдельную переменную. Это позволит избежать дублирования кода и проще будет менять путь к файлам при необходимости.\n",
    "</div>"
   ]
  },
  {
   "cell_type": "code",
   "execution_count": 7,
   "metadata": {},
   "outputs": [
    {
     "name": "stdout",
     "output_type": "stream",
     "text": [
      "<class 'pandas.core.frame.DataFrame'>\n",
      "RangeIndex: 217774 entries, 0 to 217773\n",
      "Data columns (total 22 columns):\n",
      " #   Column                 Non-Null Count   Dtype  \n",
      "---  ------                 --------------   -----  \n",
      " 0   company  ID            217472 non-null  float64\n",
      " 1   name                   217472 non-null  object \n",
      " 2   category  code         143886 non-null  object \n",
      " 3   status                 217472 non-null  object \n",
      " 4   founded  at            109956 non-null  object \n",
      " 5   closed  at             3449 non-null    object \n",
      " 6   domain                 147159 non-null  object \n",
      " 7   network  username      95534 non-null   object \n",
      " 8   country  code          108607 non-null  object \n",
      " 9   investment  rounds     217472 non-null  float64\n",
      " 10  funding  rounds        217472 non-null  float64\n",
      " 11  funding  total         217472 non-null  float64\n",
      " 12  milestones             217472 non-null  float64\n",
      " 13  funding  round  id     52928 non-null   float64\n",
      " 14  company  id            52928 non-null   float64\n",
      " 15  funded  at             52680 non-null   object \n",
      " 16  funding  round  type   52928 non-null   object \n",
      " 17  raised  amount         52928 non-null   float64\n",
      " 18  pre  money  valuation  52928 non-null   float64\n",
      " 19  participants           52928 non-null   float64\n",
      " 20  is  first  round       52928 non-null   float64\n",
      " 21  is  last  round        52928 non-null   float64\n",
      "dtypes: float64(12), object(10)\n",
      "memory usage: 36.6+ MB\n"
     ]
    }
   ],
   "source": [
    "company_and_rounds.info()"
   ]
  },
  {
   "cell_type": "code",
   "execution_count": 8,
   "metadata": {},
   "outputs": [
    {
     "data": {
      "text/plain": [
       "Index(['company  ID', 'name', 'category  code', 'status', 'founded  at',\n",
       "       'closed  at', 'domain', 'network  username', 'country  code',\n",
       "       'investment  rounds', 'funding  rounds', 'funding  total', 'milestones',\n",
       "       'funding  round  id', 'company  id', 'funded  at',\n",
       "       'funding  round  type', 'raised  amount', 'pre  money  valuation',\n",
       "       'participants', 'is  first  round', 'is  last  round'],\n",
       "      dtype='object')"
      ]
     },
     "execution_count": 8,
     "metadata": {},
     "output_type": "execute_result"
    }
   ],
   "source": [
    "# Выводим названия столбцов датафрейма\n",
    "company_and_rounds.columns"
   ]
  },
  {
   "cell_type": "code",
   "execution_count": 9,
   "metadata": {},
   "outputs": [
    {
     "name": "stdout",
     "output_type": "stream",
     "text": [
      "Index(['company_id', 'name', 'category_code', 'status', 'founded_at',\n",
      "       'closed_at', 'domain', 'network_username', 'country_code',\n",
      "       'investment_rounds', 'funding_rounds', 'funding_total', 'milestones',\n",
      "       'funding_round_id', 'company_id_2', 'funded_at', 'funding_round_type',\n",
      "       'raised_amount', 'pre_money_valuation', 'participants',\n",
      "       'is_first_round', 'is_last_round'],\n",
      "      dtype='object')\n"
     ]
    }
   ],
   "source": [
    "# Переименовываем один из столбцов, чтобы избежать дубликатов после преобразования\n",
    "company_and_rounds = company_and_rounds.rename(columns={\n",
    "    'company  id': 'company_id_2'  # временно меняем имя, чтобы избежать конфликта\n",
    "})\n",
    "\n",
    "# Переименуем столбцы и сохраним изменения\n",
    "company_and_rounds.columns = (\n",
    "    company_and_rounds.columns\n",
    "    .str.lower()\n",
    "    .str.replace(r'\\s+', '_', regex=True)\n",
    ")\n",
    "print(company_and_rounds.columns)"
   ]
  },
  {
   "cell_type": "markdown",
   "metadata": {},
   "source": [
    "<div class=\"alert alert-block alert-danger\">\n",
    "<h2> Комментарий ревьюера ❌</h2>\n",
    "    \n",
    "При преобразовании названий столбцов к единому стилю `snake case` (т. е. когда в именах переменных или файлов слова соединяются нижним подчеркиванием и пишутся маленькими буквами) важно обратить внимание на столбцы 'company  ID' и 'company  id'. Эти столбцы после приведения к нижнему регистру и замены пробелов на _ образуют дубликаты. Такую проблему можно устранить предварительно переименовав один из этих столбцов.\n",
    "</div>"
   ]
  },
  {
   "cell_type": "markdown",
   "metadata": {},
   "source": [
    "переименовала столбцы"
   ]
  },
  {
   "cell_type": "markdown",
   "metadata": {},
   "source": [
    "<div class=\"alert alert-block alert-success\">\n",
    "<h2> Комментарий ревьюера v. 2 ✔️</h2>\n",
    "    \n",
    "Отлично, теперь проблема дублирующихся названий столбцов решена. 👍👍👍\n",
    "</div>"
   ]
  },
  {
   "cell_type": "code",
   "execution_count": 10,
   "metadata": {},
   "outputs": [
    {
     "data": {
      "text/html": [
       "<div>\n",
       "<style scoped>\n",
       "    .dataframe tbody tr th:only-of-type {\n",
       "        vertical-align: middle;\n",
       "    }\n",
       "\n",
       "    .dataframe tbody tr th {\n",
       "        vertical-align: top;\n",
       "    }\n",
       "\n",
       "    .dataframe thead th {\n",
       "        text-align: right;\n",
       "    }\n",
       "</style>\n",
       "<table border=\"1\" class=\"dataframe\">\n",
       "  <thead>\n",
       "    <tr style=\"text-align: right;\">\n",
       "      <th></th>\n",
       "      <th>company_id</th>\n",
       "      <th>name</th>\n",
       "      <th>category_code</th>\n",
       "      <th>status</th>\n",
       "      <th>founded_at</th>\n",
       "      <th>closed_at</th>\n",
       "      <th>domain</th>\n",
       "      <th>network_username</th>\n",
       "      <th>country_code</th>\n",
       "      <th>investment_rounds</th>\n",
       "      <th>...</th>\n",
       "      <th>milestones</th>\n",
       "      <th>funding_round_id</th>\n",
       "      <th>company_id_2</th>\n",
       "      <th>funded_at</th>\n",
       "      <th>funding_round_type</th>\n",
       "      <th>raised_amount</th>\n",
       "      <th>pre_money_valuation</th>\n",
       "      <th>participants</th>\n",
       "      <th>is_first_round</th>\n",
       "      <th>is_last_round</th>\n",
       "    </tr>\n",
       "  </thead>\n",
       "  <tbody>\n",
       "    <tr>\n",
       "      <th>0</th>\n",
       "      <td>1.0</td>\n",
       "      <td>Wetpaint</td>\n",
       "      <td>web</td>\n",
       "      <td>operating</td>\n",
       "      <td>2005-10-17</td>\n",
       "      <td>NaN</td>\n",
       "      <td>wetpaint-inc.com</td>\n",
       "      <td>BachelrWetpaint</td>\n",
       "      <td>USA</td>\n",
       "      <td>0.0</td>\n",
       "      <td>...</td>\n",
       "      <td>5.0</td>\n",
       "      <td>888.0</td>\n",
       "      <td>1.0</td>\n",
       "      <td>2005-10-01</td>\n",
       "      <td>series-a</td>\n",
       "      <td>5250000.0</td>\n",
       "      <td>0.0</td>\n",
       "      <td>2.0</td>\n",
       "      <td>0.0</td>\n",
       "      <td>1.0</td>\n",
       "    </tr>\n",
       "    <tr>\n",
       "      <th>1</th>\n",
       "      <td>1.0</td>\n",
       "      <td>Wetpaint</td>\n",
       "      <td>web</td>\n",
       "      <td>operating</td>\n",
       "      <td>2005-10-17</td>\n",
       "      <td>NaN</td>\n",
       "      <td>wetpaint-inc.com</td>\n",
       "      <td>BachelrWetpaint</td>\n",
       "      <td>USA</td>\n",
       "      <td>0.0</td>\n",
       "      <td>...</td>\n",
       "      <td>5.0</td>\n",
       "      <td>889.0</td>\n",
       "      <td>1.0</td>\n",
       "      <td>2007-01-01</td>\n",
       "      <td>series-b</td>\n",
       "      <td>9500000.0</td>\n",
       "      <td>0.0</td>\n",
       "      <td>3.0</td>\n",
       "      <td>0.0</td>\n",
       "      <td>0.0</td>\n",
       "    </tr>\n",
       "    <tr>\n",
       "      <th>2</th>\n",
       "      <td>1.0</td>\n",
       "      <td>Wetpaint</td>\n",
       "      <td>web</td>\n",
       "      <td>operating</td>\n",
       "      <td>2005-10-17</td>\n",
       "      <td>NaN</td>\n",
       "      <td>wetpaint-inc.com</td>\n",
       "      <td>BachelrWetpaint</td>\n",
       "      <td>USA</td>\n",
       "      <td>0.0</td>\n",
       "      <td>...</td>\n",
       "      <td>5.0</td>\n",
       "      <td>2312.0</td>\n",
       "      <td>1.0</td>\n",
       "      <td>2008-05-19</td>\n",
       "      <td>series-c+</td>\n",
       "      <td>25000000.0</td>\n",
       "      <td>0.0</td>\n",
       "      <td>4.0</td>\n",
       "      <td>1.0</td>\n",
       "      <td>0.0</td>\n",
       "    </tr>\n",
       "    <tr>\n",
       "      <th>3</th>\n",
       "      <td>10.0</td>\n",
       "      <td>Flektor</td>\n",
       "      <td>games_video</td>\n",
       "      <td>acquired</td>\n",
       "      <td>NaN</td>\n",
       "      <td>NaN</td>\n",
       "      <td>flektor.com</td>\n",
       "      <td>NaN</td>\n",
       "      <td>USA</td>\n",
       "      <td>0.0</td>\n",
       "      <td>...</td>\n",
       "      <td>0.0</td>\n",
       "      <td>NaN</td>\n",
       "      <td>NaN</td>\n",
       "      <td>NaN</td>\n",
       "      <td>NaN</td>\n",
       "      <td>NaN</td>\n",
       "      <td>NaN</td>\n",
       "      <td>NaN</td>\n",
       "      <td>NaN</td>\n",
       "      <td>NaN</td>\n",
       "    </tr>\n",
       "    <tr>\n",
       "      <th>4</th>\n",
       "      <td>100.0</td>\n",
       "      <td>There</td>\n",
       "      <td>games_video</td>\n",
       "      <td>acquired</td>\n",
       "      <td>NaN</td>\n",
       "      <td>NaN</td>\n",
       "      <td>there.com</td>\n",
       "      <td>NaN</td>\n",
       "      <td>USA</td>\n",
       "      <td>0.0</td>\n",
       "      <td>...</td>\n",
       "      <td>4.0</td>\n",
       "      <td>NaN</td>\n",
       "      <td>NaN</td>\n",
       "      <td>NaN</td>\n",
       "      <td>NaN</td>\n",
       "      <td>NaN</td>\n",
       "      <td>NaN</td>\n",
       "      <td>NaN</td>\n",
       "      <td>NaN</td>\n",
       "      <td>NaN</td>\n",
       "    </tr>\n",
       "  </tbody>\n",
       "</table>\n",
       "<p>5 rows × 22 columns</p>\n",
       "</div>"
      ],
      "text/plain": [
       "   company_id      name category_code     status  founded_at closed_at  \\\n",
       "0         1.0  Wetpaint           web  operating  2005-10-17       NaN   \n",
       "1         1.0  Wetpaint           web  operating  2005-10-17       NaN   \n",
       "2         1.0  Wetpaint           web  operating  2005-10-17       NaN   \n",
       "3        10.0   Flektor   games_video   acquired         NaN       NaN   \n",
       "4       100.0     There   games_video   acquired         NaN       NaN   \n",
       "\n",
       "             domain network_username country_code  investment_rounds  ...  \\\n",
       "0  wetpaint-inc.com  BachelrWetpaint          USA                0.0  ...   \n",
       "1  wetpaint-inc.com  BachelrWetpaint          USA                0.0  ...   \n",
       "2  wetpaint-inc.com  BachelrWetpaint          USA                0.0  ...   \n",
       "3       flektor.com              NaN          USA                0.0  ...   \n",
       "4         there.com              NaN          USA                0.0  ...   \n",
       "\n",
       "   milestones  funding_round_id  company_id_2   funded_at  funding_round_type  \\\n",
       "0         5.0             888.0           1.0  2005-10-01            series-a   \n",
       "1         5.0             889.0           1.0  2007-01-01            series-b   \n",
       "2         5.0            2312.0           1.0  2008-05-19           series-c+   \n",
       "3         0.0               NaN           NaN         NaN                 NaN   \n",
       "4         4.0               NaN           NaN         NaN                 NaN   \n",
       "\n",
       "  raised_amount pre_money_valuation  participants  is_first_round  \\\n",
       "0     5250000.0                 0.0           2.0             0.0   \n",
       "1     9500000.0                 0.0           3.0             0.0   \n",
       "2    25000000.0                 0.0           4.0             1.0   \n",
       "3           NaN                 NaN           NaN             NaN   \n",
       "4           NaN                 NaN           NaN             NaN   \n",
       "\n",
       "   is_last_round  \n",
       "0            1.0  \n",
       "1            0.0  \n",
       "2            0.0  \n",
       "3            NaN  \n",
       "4            NaN  \n",
       "\n",
       "[5 rows x 22 columns]"
      ]
     },
     "execution_count": 10,
     "metadata": {},
     "output_type": "execute_result"
    }
   ],
   "source": [
    "company_and_rounds.head()"
   ]
  },
  {
   "cell_type": "code",
   "execution_count": 11,
   "metadata": {},
   "outputs": [
    {
     "data": {
      "text/html": [
       "<div>\n",
       "<style scoped>\n",
       "    .dataframe tbody tr th:only-of-type {\n",
       "        vertical-align: middle;\n",
       "    }\n",
       "\n",
       "    .dataframe tbody tr th {\n",
       "        vertical-align: top;\n",
       "    }\n",
       "\n",
       "    .dataframe thead th {\n",
       "        text-align: right;\n",
       "    }\n",
       "</style>\n",
       "<table border=\"1\" class=\"dataframe\">\n",
       "  <thead>\n",
       "    <tr style=\"text-align: right;\">\n",
       "      <th></th>\n",
       "      <th>id</th>\n",
       "      <th>person_id</th>\n",
       "      <th>instituition</th>\n",
       "      <th>graduated_at</th>\n",
       "    </tr>\n",
       "  </thead>\n",
       "  <tbody>\n",
       "    <tr>\n",
       "      <th>0</th>\n",
       "      <td>1</td>\n",
       "      <td>6117</td>\n",
       "      <td>NaN</td>\n",
       "      <td>NaN</td>\n",
       "    </tr>\n",
       "    <tr>\n",
       "      <th>1</th>\n",
       "      <td>2</td>\n",
       "      <td>6136</td>\n",
       "      <td>Washington University, St. Louis</td>\n",
       "      <td>1990-01-01</td>\n",
       "    </tr>\n",
       "    <tr>\n",
       "      <th>2</th>\n",
       "      <td>3</td>\n",
       "      <td>6136</td>\n",
       "      <td>Boston University</td>\n",
       "      <td>1992-01-01</td>\n",
       "    </tr>\n",
       "    <tr>\n",
       "      <th>3</th>\n",
       "      <td>4</td>\n",
       "      <td>6005</td>\n",
       "      <td>University of Greenwich</td>\n",
       "      <td>2006-01-01</td>\n",
       "    </tr>\n",
       "    <tr>\n",
       "      <th>4</th>\n",
       "      <td>5</td>\n",
       "      <td>5832</td>\n",
       "      <td>Rice University</td>\n",
       "      <td>NaN</td>\n",
       "    </tr>\n",
       "  </tbody>\n",
       "</table>\n",
       "</div>"
      ],
      "text/plain": [
       "   id  person_id                      instituition graduated_at\n",
       "0   1       6117                               NaN          NaN\n",
       "1   2       6136  Washington University, St. Louis   1990-01-01\n",
       "2   3       6136                 Boston University   1992-01-01\n",
       "3   4       6005           University of Greenwich   2006-01-01\n",
       "4   5       5832                   Rice University          NaN"
      ]
     },
     "execution_count": 11,
     "metadata": {},
     "output_type": "execute_result"
    }
   ],
   "source": [
    "education = pd.read_csv('https://code.s3.yandex.net/datasets/education.csv')\n",
    "education.head()"
   ]
  },
  {
   "cell_type": "code",
   "execution_count": 12,
   "metadata": {},
   "outputs": [
    {
     "name": "stdout",
     "output_type": "stream",
     "text": [
      "<class 'pandas.core.frame.DataFrame'>\n",
      "RangeIndex: 109610 entries, 0 to 109609\n",
      "Data columns (total 4 columns):\n",
      " #   Column        Non-Null Count   Dtype \n",
      "---  ------        --------------   ----- \n",
      " 0   id            109610 non-null  int64 \n",
      " 1   person_id     109610 non-null  int64 \n",
      " 2   instituition  109555 non-null  object\n",
      " 3   graduated_at  58054 non-null   object\n",
      "dtypes: int64(2), object(2)\n",
      "memory usage: 3.3+ MB\n"
     ]
    }
   ],
   "source": [
    "education.info()"
   ]
  },
  {
   "cell_type": "code",
   "execution_count": 13,
   "metadata": {},
   "outputs": [
    {
     "data": {
      "text/plain": [
       "Index(['id', 'person_id', 'instituition', 'graduated_at'], dtype='object')"
      ]
     },
     "execution_count": 13,
     "metadata": {},
     "output_type": "execute_result"
    }
   ],
   "source": [
    "# Выводим названия столбцов датафрейма\n",
    "education.columns"
   ]
  },
  {
   "cell_type": "code",
   "execution_count": 14,
   "metadata": {},
   "outputs": [
    {
     "data": {
      "text/html": [
       "<div>\n",
       "<style scoped>\n",
       "    .dataframe tbody tr th:only-of-type {\n",
       "        vertical-align: middle;\n",
       "    }\n",
       "\n",
       "    .dataframe tbody tr th {\n",
       "        vertical-align: top;\n",
       "    }\n",
       "\n",
       "    .dataframe thead th {\n",
       "        text-align: right;\n",
       "    }\n",
       "</style>\n",
       "<table border=\"1\" class=\"dataframe\">\n",
       "  <thead>\n",
       "    <tr style=\"text-align: right;\">\n",
       "      <th></th>\n",
       "      <th>id</th>\n",
       "      <th>first_name</th>\n",
       "      <th>last_name</th>\n",
       "      <th>company_id</th>\n",
       "      <th>network_username</th>\n",
       "    </tr>\n",
       "  </thead>\n",
       "  <tbody>\n",
       "    <tr>\n",
       "      <th>0</th>\n",
       "      <td>10</td>\n",
       "      <td>Mark</td>\n",
       "      <td>Zuckerberg</td>\n",
       "      <td>5.0</td>\n",
       "      <td>NaN</td>\n",
       "    </tr>\n",
       "    <tr>\n",
       "      <th>1</th>\n",
       "      <td>100</td>\n",
       "      <td>Peter</td>\n",
       "      <td>Lester</td>\n",
       "      <td>27.0</td>\n",
       "      <td>NaN</td>\n",
       "    </tr>\n",
       "    <tr>\n",
       "      <th>2</th>\n",
       "      <td>1000</td>\n",
       "      <td>Dr. Steven</td>\n",
       "      <td>E. Saunders</td>\n",
       "      <td>292.0</td>\n",
       "      <td>NaN</td>\n",
       "    </tr>\n",
       "    <tr>\n",
       "      <th>3</th>\n",
       "      <td>10000</td>\n",
       "      <td>Neil</td>\n",
       "      <td>Capel</td>\n",
       "      <td>2526.0</td>\n",
       "      <td>NaN</td>\n",
       "    </tr>\n",
       "    <tr>\n",
       "      <th>4</th>\n",
       "      <td>100000</td>\n",
       "      <td>Sue</td>\n",
       "      <td>Pilsch</td>\n",
       "      <td>NaN</td>\n",
       "      <td>NaN</td>\n",
       "    </tr>\n",
       "  </tbody>\n",
       "</table>\n",
       "</div>"
      ],
      "text/plain": [
       "       id  first_name    last_name  company_id network_username\n",
       "0      10        Mark   Zuckerberg         5.0              NaN\n",
       "1     100       Peter       Lester        27.0              NaN\n",
       "2    1000  Dr. Steven  E. Saunders       292.0              NaN\n",
       "3   10000        Neil        Capel      2526.0              NaN\n",
       "4  100000         Sue       Pilsch         NaN              NaN"
      ]
     },
     "execution_count": 14,
     "metadata": {},
     "output_type": "execute_result"
    }
   ],
   "source": [
    "people = pd.read_csv('https://code.s3.yandex.net/datasets/people.csv')\n",
    "people.head()"
   ]
  },
  {
   "cell_type": "code",
   "execution_count": 15,
   "metadata": {},
   "outputs": [
    {
     "name": "stdout",
     "output_type": "stream",
     "text": [
      "<class 'pandas.core.frame.DataFrame'>\n",
      "RangeIndex: 226709 entries, 0 to 226708\n",
      "Data columns (total 5 columns):\n",
      " #   Column            Non-Null Count   Dtype  \n",
      "---  ------            --------------   -----  \n",
      " 0   id                226709 non-null  int64  \n",
      " 1   first_name        226704 non-null  object \n",
      " 2   last_name         226708 non-null  object \n",
      " 3   company_id        34615 non-null   float64\n",
      " 4   network_username  38867 non-null   object \n",
      "dtypes: float64(1), int64(1), object(3)\n",
      "memory usage: 8.6+ MB\n"
     ]
    }
   ],
   "source": [
    "people.info()"
   ]
  },
  {
   "cell_type": "code",
   "execution_count": 16,
   "metadata": {},
   "outputs": [
    {
     "data": {
      "text/plain": [
       "Index(['id', 'first_name', 'last_name', 'company_id', 'network_username'], dtype='object')"
      ]
     },
     "execution_count": 16,
     "metadata": {},
     "output_type": "execute_result"
    }
   ],
   "source": [
    "# Выводим названия столбцов датафрейма\n",
    "people.columns"
   ]
  },
  {
   "cell_type": "code",
   "execution_count": 17,
   "metadata": {},
   "outputs": [
    {
     "data": {
      "text/html": [
       "<div>\n",
       "<style scoped>\n",
       "    .dataframe tbody tr th:only-of-type {\n",
       "        vertical-align: middle;\n",
       "    }\n",
       "\n",
       "    .dataframe tbody tr th {\n",
       "        vertical-align: top;\n",
       "    }\n",
       "\n",
       "    .dataframe thead th {\n",
       "        text-align: right;\n",
       "    }\n",
       "</style>\n",
       "<table border=\"1\" class=\"dataframe\">\n",
       "  <thead>\n",
       "    <tr style=\"text-align: right;\">\n",
       "      <th></th>\n",
       "      <th>id</th>\n",
       "      <th>object_id</th>\n",
       "      <th>degree_type</th>\n",
       "      <th>subject</th>\n",
       "    </tr>\n",
       "  </thead>\n",
       "  <tbody>\n",
       "    <tr>\n",
       "      <th>0</th>\n",
       "      <td>1</td>\n",
       "      <td>p:6117</td>\n",
       "      <td>MBA</td>\n",
       "      <td>NaN</td>\n",
       "    </tr>\n",
       "    <tr>\n",
       "      <th>1</th>\n",
       "      <td>2</td>\n",
       "      <td>p:6136</td>\n",
       "      <td>BA</td>\n",
       "      <td>English, French</td>\n",
       "    </tr>\n",
       "    <tr>\n",
       "      <th>2</th>\n",
       "      <td>3</td>\n",
       "      <td>p:6136</td>\n",
       "      <td>MS</td>\n",
       "      <td>Mass Communication</td>\n",
       "    </tr>\n",
       "    <tr>\n",
       "      <th>3</th>\n",
       "      <td>4</td>\n",
       "      <td>p:6005</td>\n",
       "      <td>MS</td>\n",
       "      <td>Internet Technology</td>\n",
       "    </tr>\n",
       "    <tr>\n",
       "      <th>4</th>\n",
       "      <td>5</td>\n",
       "      <td>p:5832</td>\n",
       "      <td>BCS</td>\n",
       "      <td>Computer Science, Psychology</td>\n",
       "    </tr>\n",
       "  </tbody>\n",
       "</table>\n",
       "</div>"
      ],
      "text/plain": [
       "   id object_id degree_type                       subject\n",
       "0   1    p:6117         MBA                           NaN\n",
       "1   2    p:6136          BA               English, French\n",
       "2   3    p:6136          MS            Mass Communication\n",
       "3   4    p:6005          MS           Internet Technology\n",
       "4   5    p:5832         BCS  Computer Science, Psychology"
      ]
     },
     "execution_count": 17,
     "metadata": {},
     "output_type": "execute_result"
    }
   ],
   "source": [
    "degrees = pd.read_csv('https://code.s3.yandex.net/datasets/degrees.csv')\n",
    "degrees.head()"
   ]
  },
  {
   "cell_type": "code",
   "execution_count": 18,
   "metadata": {},
   "outputs": [
    {
     "name": "stdout",
     "output_type": "stream",
     "text": [
      "<class 'pandas.core.frame.DataFrame'>\n",
      "RangeIndex: 109610 entries, 0 to 109609\n",
      "Data columns (total 4 columns):\n",
      " #   Column       Non-Null Count   Dtype \n",
      "---  ------       --------------   ----- \n",
      " 0   id           109610 non-null  int64 \n",
      " 1   object_id    109610 non-null  object\n",
      " 2   degree_type  98392 non-null   object\n",
      " 3   subject      81298 non-null   object\n",
      "dtypes: int64(1), object(3)\n",
      "memory usage: 3.3+ MB\n"
     ]
    }
   ],
   "source": [
    "degrees.info()"
   ]
  },
  {
   "cell_type": "markdown",
   "metadata": {},
   "source": [
    "<div class=\"alert alert-block alert-warning\">\n",
    "<h2> Комментарий ревьюера ⚠️</h2>\n",
    "    \n",
    "В проекте используется несколько датасетов. При этом проверка данных довольно однотипная, т. е. можно автоматизировать анализ данных написав для этого отдельную функцию (или несколько функций), которая будет выводить общую информацию о датафрейме, подсчитывать процент пропусков по столбцам, проверять наличия дубликатов, подсчитывать число уникальных значений в данных и т. д.\n",
    "    \n",
    "Ниже привожу пример такой функции:\n",
    "    \n",
    "```\n",
    "def lookup_datasets(dfs, filenames=None):\n",
    "    \"\"\"\n",
    "    Выводит информацию о датасетах из списка\n",
    "\n",
    "    Parameters:\n",
    "        dfs (list of pd.DataFrame): Список датафреймов для обработки.\n",
    "        filenames (list of str): Список названий файлов (имена для отображения).\n",
    "    \"\"\"\n",
    "    if filenames is None:\n",
    "        filenames = [f\"df_{i + 1}\" for i in range(len(dfs))]\n",
    "\n",
    "    for df, df_name in zip(dfs, filenames):\n",
    "        print('-'*10,' '*5, df_name, ' '*5, '-'*10)\n",
    "\n",
    "        # Пропущенные значения\n",
    "        missing_data = df.isna().mean()\n",
    "        missing_data_result = missing_data.apply(lambda x: f'{x:.2%}' if x > 0 else \"\")\n",
    "        missing_data_name = \"Пропущено\" if missing_data.sum() > 0 else \"\"\n",
    "        missing_data_result.name = missing_data_name\n",
    "\n",
    "        # Типы данных\n",
    "        dtypes_result = df.dtypes\n",
    "        dtypes_result.name = \"Тип данных колонки\"\n",
    "        fewest_nans_row = df.iloc[1:-1].isna().sum(axis=1).idxmin()\n",
    "\n",
    "        values_type = df.loc[fewest_nans_row].map(type).T\n",
    "        values_type.name = \"Тип значения\"\n",
    "\n",
    "        # Объединяем результаты и пример данных\n",
    "        result = pd.concat([\n",
    "            dtypes_result, # типы\n",
    "            values_type, # типы значений\n",
    "            missing_data_result, # пропущенные значения\n",
    "            df.iloc[0, :], # первая строка\n",
    "            df.loc[fewest_nans_row].T, # полная строка\n",
    "            df.iloc[-1, :] # последняя строка\n",
    "        ], axis=1)\n",
    "\n",
    "        display(result)\n",
    "\n",
    "        # Проверка на полные дубликаты\n",
    "        duplicates = df.duplicated().mean()\n",
    "        if duplicates > 0:\n",
    "            print(f'Полных дубликатов: {duplicates:.2%}')\n",
    "\n",
    "        print()\n",
    "\n",
    "# Проводим автоматический осмотр данных\n",
    "column_counts = lookup_datasets(dfs.values(), dfs.keys())\n",
    "```\n",
    "\n",
    "</div>"
   ]
  },
  {
   "cell_type": "markdown",
   "metadata": {},
   "source": [
    "# Что сделано?\n",
    "\n",
    "- посмотрели информацию о названиях стоблцах\n",
    "- изменили где надо названия столбцов\n",
    "\n",
    "Дальше порабоатем с типами данных и с пропусками"
   ]
  },
  {
   "cell_type": "markdown",
   "metadata": {},
   "source": [
    "<div class=\"alert alert-block alert-success\">\n",
    "<h2> Комментарий ревьюера ✔️</h2>\n",
    "    \n",
    "Ок, итог первичного аналза данных подведён)\n",
    "</div>"
   ]
  },
  {
   "cell_type": "markdown",
   "metadata": {
    "id": "mg2gEwh0rJg0"
   },
   "source": [
    "### 1.2. Смена типов и анализ пропусков\n",
    "\n",
    "- Обработайте типы данных в столбцах, которые хранят значения даты и времени, если это необходимо.\n",
    "- Оцените полноту данных — сделайте предварительный вывод, достаточно ли данных для решения задач проекта."
   ]
  },
  {
   "cell_type": "code",
   "execution_count": 19,
   "metadata": {
    "id": "FsL0A8RBrJg1",
    "vscode": {
     "languageId": "plaintext"
    }
   },
   "outputs": [],
   "source": [
    "acquisition['acquired_at'] = pd.to_datetime(acquisition['acquired_at'])"
   ]
  },
  {
   "cell_type": "code",
   "execution_count": 20,
   "metadata": {
    "id": "DEg1tl8DFeBn"
   },
   "outputs": [
    {
     "name": "stdout",
     "output_type": "stream",
     "text": [
      "founded_at    datetime64[ns]\n",
      "closed_at     datetime64[ns]\n",
      "funded_at     datetime64[ns]\n",
      "dtype: object\n"
     ]
    }
   ],
   "source": [
    "# преобразуем типы данных\n",
    "company_and_rounds['founded_at'] = pd.to_datetime(company_and_rounds['founded_at'], errors='coerce')\n",
    "company_and_rounds['closed_at'] = pd.to_datetime(company_and_rounds['closed_at'], errors='coerce')\n",
    "company_and_rounds['funded_at'] = pd.to_datetime(company_and_rounds['funded_at'], errors='coerce')\n",
    "\n",
    "print(company_and_rounds[['founded_at', 'closed_at', 'funded_at']].dtypes)"
   ]
  },
  {
   "cell_type": "code",
   "execution_count": 21,
   "metadata": {},
   "outputs": [],
   "source": [
    "education['graduated_at'] = pd.to_datetime(education['graduated_at'], errors='coerce')"
   ]
  },
  {
   "cell_type": "markdown",
   "metadata": {},
   "source": [
    "<div class=\"alert alert-block alert-warning\">\n",
    "<h2> Комментарий ревьюера ⚠️</h2>\n",
    "    \n",
    "Отлично, изменения типа данных для столбцов с датами выполнены верно и молодец, что проверила корректность преобразования типа столбцов.\n",
    "\n",
    "Ещё можно подумать над понижением разрядности для некоторых числовых полей и оптимизировать тип бинарных признаков (столбцов `is_first_round` и `is_last_round`).\n",
    "    \n",
    "Для столбцов содержащих ограниченное число категорий подходящим типом будет `category`.\n",
    "    \n",
    "Подробнее: https://dfedorov.spb.ru/pandas/%D0%98%D1%81%D0%BF%D0%BE%D0%BB%D1%8C%D0%B7%D0%BE%D0%B2%D0%B0%D0%BD%D0%B8%D0%B5%20%D1%82%D0%B8%D0%BF%D0%B0%20%D0%B4%D0%B0%D0%BD%D0%BD%D1%8B%D1%85%20%D0%BA%D0%B0%D1%82%D0%B5%D0%B3%D0%BE%D1%80%D0%B8%D0%B8%20%D0%B2%20pandas.html\n",
    "    \n",
    "Для больших датасетов оптимизация типов данных позволяет сократить объём занимаемой оперативной памяти.\n",
    "\n",
    "Подробнее: https://towardsdatascience.com/seven-killer-memory-optimization-techniques-every-pandas-user-should-know-64707348ab20\n",
    "</div>"
   ]
  },
  {
   "cell_type": "code",
   "execution_count": 22,
   "metadata": {},
   "outputs": [],
   "source": [
    "binary_cols = ['is_first_round', 'is_last_round']\n",
    "for col in binary_cols:\n",
    "    company_and_rounds[col] = company_and_rounds[col].astype('bool')"
   ]
  },
  {
   "cell_type": "markdown",
   "metadata": {},
   "source": [
    "Заменили тины данных"
   ]
  },
  {
   "cell_type": "markdown",
   "metadata": {},
   "source": [
    "<div class=\"alert alert-block alert-success\">\n",
    "<h2> Комментарий ревьюера v. 2 ✔️</h2>\n",
    "    \n",
    "Молодец, что оптимизировала тип у бинарных признаков.\n",
    "</div>"
   ]
  },
  {
   "cell_type": "markdown",
   "metadata": {},
   "source": [
    "<div class=\"alert alert-block alert-danger\">\n",
    "<h2> Комментарий ревьюера ❌</h2>\n",
    "    \n",
    "Необходимо рассчитать число и процент/долю пропусков по столбцам и проанализировать пропуски. Помимо этого, проверь, пожалуйста, наличие дубликатов в данных.\n",
    "</div>"
   ]
  },
  {
   "cell_type": "code",
   "execution_count": 23,
   "metadata": {},
   "outputs": [
    {
     "name": "stdout",
     "output_type": "stream",
     "text": [
      "company_id                302\n",
      "name                      302\n",
      "category_code           73888\n",
      "status                    302\n",
      "founded_at             107818\n",
      "closed_at              214325\n",
      "domain                  70615\n",
      "network_username       122240\n",
      "country_code           109167\n",
      "investment_rounds         302\n",
      "funding_rounds            302\n",
      "funding_total             302\n",
      "milestones                302\n",
      "funding_round_id       164846\n",
      "company_id_2           164846\n",
      "funded_at              165094\n",
      "funding_round_type     164846\n",
      "raised_amount          164846\n",
      "pre_money_valuation    164846\n",
      "participants           164846\n",
      "is_first_round              0\n",
      "is_last_round               0\n",
      "dtype: int64\n",
      "company_id              0.138676\n",
      "name                    0.138676\n",
      "category_code          33.928752\n",
      "status                  0.138676\n",
      "founded_at             49.509124\n",
      "closed_at              98.416248\n",
      "domain                 32.425818\n",
      "network_username       56.131586\n",
      "country_code           50.128574\n",
      "investment_rounds       0.138676\n",
      "funding_rounds          0.138676\n",
      "funding_total           0.138676\n",
      "milestones              0.138676\n",
      "funding_round_id       75.695905\n",
      "company_id_2           75.695905\n",
      "funded_at              75.809784\n",
      "funding_round_type     75.695905\n",
      "raised_amount          75.695905\n",
      "pre_money_valuation    75.695905\n",
      "participants           75.695905\n",
      "is_first_round          0.000000\n",
      "is_last_round           0.000000\n",
      "dtype: float64\n"
     ]
    }
   ],
   "source": [
    "# Подсчёт пропусков\n",
    "missing_counts = company_and_rounds.isnull().sum()\n",
    "missing_percent = (missing_counts / len(company_and_rounds)) * 100\n",
    "print(missing_counts)\n",
    "print(missing_percent)"
   ]
  },
  {
   "cell_type": "markdown",
   "metadata": {},
   "source": [
    "<div class=\"alert alert-block alert-success\">\n",
    "<h2> Комментарий ревьюера v. 2 ✔️</h2>\n",
    "    \n",
    "Отлично, число и процент пропусков вычислены, но для более удобного анализа советую отсортировать столбцы в порядке увеличения/уменьшения числа пропусков.\n",
    "</div>"
   ]
  },
  {
   "cell_type": "code",
   "execution_count": 24,
   "metadata": {},
   "outputs": [
    {
     "name": "stdout",
     "output_type": "stream",
     "text": [
      "0\n"
     ]
    }
   ],
   "source": [
    "missing_df = pd.DataFrame({\n",
    "    'missing_count': missing_counts,\n",
    "    'missing_percent': missing_percent\n",
    "}).sort_values(by='missing_percent', ascending=False)\n",
    "\n",
    "# Проверка дубликатов\n",
    "duplicates_count = company_and_rounds.duplicated().sum()\n",
    "print(duplicates_count )"
   ]
  },
  {
   "cell_type": "markdown",
   "metadata": {},
   "source": [
    "Дубликатов не обраружено"
   ]
  },
  {
   "cell_type": "markdown",
   "metadata": {},
   "source": [
    "<div class=\"alert alert-block alert-success\">\n",
    "<h2> Комментарий ревьюера v. 2 ✔️</h2>\n",
    "    \n",
    "Отлично, дубликатов в данных нет)\n",
    "</div>"
   ]
  },
  {
   "cell_type": "markdown",
   "metadata": {},
   "source": [
    "<div class=\"alert alert-block alert-warning\">\n",
    "<h2> Комментарий ревьюера ⚠️</h2>\n",
    "    \n",
    "Перед тем как принимать решение об удалении или обработке пропусков их нужно проанализировать.\n",
    "\n",
    "Следовало бы детальнее проанализировать пропуски и прокомментировать с чем они могут быть связаны и как их обрабатывать.\n",
    "\n",
    "MCAR (Missing Completely At Random) — механизм формирования пропусков, при котором вероятность пропуска для каждой записи набора одинакова. Например, если проводился социологический опрос, в котором каждому десятому респонденту один случайно выбранный вопрос не задавался, причем на все остальные заданные вопросы респонденты отвечали, то имеет место механизм MCAR. В таком случае игнорирование/исключение записей, содержащих пропущенные данные, не ведет к искажению результатов.\n",
    "\n",
    "MAR (Missing At Random) — на практике данные обычно пропущены не случайно, а ввиду некоторых закономерностей. Пропуски относят к MAR, если вероятность пропуска может быть определена на основе другой имеющейся в наборе данных информации (пол, возраст, занимаемая должность, образование…), не содержащей пропуски. В таком случае удаление или замена пропусков на значение «Пропуск», как и в случае MCAR, не приведет к существенному искажению результатов.\n",
    "\n",
    "MNAR (Missing Not At Random) — механизм формирования пропусков, при котором данные отсутствуют в зависимости от неизвестных факторов. MNAR предполагает, что вероятность пропуска могла бы быть описана на основе других атрибутов, но информация по этим атрибутам в наборе данных отсутствует. Как следствие, вероятность пропуска невозможно выразить на основе информации, содержащейся в наборе данных.\n",
    "\n",
    "Подробнее: https://loginom.ru/blog/missing\n",
    "</div>"
   ]
  },
  {
   "cell_type": "markdown",
   "metadata": {},
   "source": [
    "Проанализируем пропуски\n",
    "\n",
    "- Пропуски в closed_at обусловлены тем, что большинство компаний всё ещё активны.\n",
    "- Пропуски в данных, связанных с раундами финансирования (funding_round_id, funded_at, raised_amount и др.) — типичны для компаний без раундов инвестиций.\n",
    "- Малое количество пропусков в company_id, name, status связано, скорее всего, с ошибками при загрузке данных и требует минимальной очистки.\n",
    "- Значительные пропуски в category_code, network_username могут быть связаны с особенностями сбора данных или с неполнотой источников."
   ]
  },
  {
   "cell_type": "markdown",
   "metadata": {},
   "source": [
    "<div class=\"alert alert-block alert-danger\">\n",
    "<h2> Комментарий ревьюера ❌</h2>\n",
    "    \n",
    "Важной частью проекта является подведение промежуточных итогов, поэтому после каждого раздела должен быть промежуточный вывод. После анализа и предобработки данных нужно описать выявленные проблемы и аргументировать почему те или иные преобразования данных выполнены.\n",
    "</div>"
   ]
  },
  {
   "cell_type": "markdown",
   "metadata": {},
   "source": [
    "Промежуточный вывод\n",
    "\n",
    "- В данных присутствуют пропуски различного масштаба и характера. Особенно значительные пропуски в столбцах, связанных с информацией о закрытии компаний и раундах финансирования. \n",
    "- Были выполнены преобразования типов данных для оптимизации использования памяти и повышения производительности:\n",
    "Бинарные признаки переведены в тип bool. И дата и время в тип  datetime64\n",
    "- Дубликаты в данных отсутствуют\n"
   ]
  },
  {
   "cell_type": "markdown",
   "metadata": {},
   "source": [
    "<div class=\"alert alert-block alert-success\">\n",
    "<h2> Комментарий ревьюера v. 2 ✔️</h2>\n",
    "    \n",
    "Молодец, что подвела итоги предобработки и анализа данных. 👍👍👍\n",
    "</div>"
   ]
  },
  {
   "cell_type": "markdown",
   "metadata": {
    "id": "u60cHsn6rJg1"
   },
   "source": [
    "## Шаг 2. Предобработка данных, предварительное исследование"
   ]
  },
  {
   "cell_type": "markdown",
   "metadata": {
    "id": "g2bHIIjcrJg1"
   },
   "source": [
    "\n",
    "### 2.1. Раунды финансирования по годам\n",
    "\n",
    "Задание необходимо выполнить без объединения и дополнительной предобработки на основе датасета `company_and_rounds.csv`.\n",
    "\n",
    "- Составьте сводную таблицу по годам, в которой на основании столбца `raised_amount` для каждого года указан:\n",
    "    - типичный размер средств, выделяемый в рамках одного раунда;\n",
    "    - общее количество раундов финансирования за этот год.\n",
    "    \n",
    "- Оставьте в таблице информацию только для тех лет, для которых есть информация о более чем 50 раундах финансирования.\n",
    "- На основе получившейся таблицы постройте график, который будет отражать динамику типичного размера средств, которые стартапы получали в рамках одного раунда финансирования.\n",
    "\n",
    "На основе полученных данных ответьте на вопросы:\n",
    "\n",
    "- В каком году типичный размер собранных в рамках одного раунда средств был максимален?\n",
    "- Какая тенденция по количеству раундов и выделяемых в рамках каждого раунда средств наблюдалась в 2013 году?"
   ]
  },
  {
   "cell_type": "code",
   "execution_count": 25,
   "metadata": {},
   "outputs": [],
   "source": [
    "# Извлечение года из даты\n",
    "company_and_rounds['funding_year'] = company_and_rounds['funded_at'].dt.year\n",
    "\n",
    "# Фильтрация данных - только строки с указанной суммой финансирования\n",
    "funding_data = company_and_rounds.dropna(subset=['raised_amount', 'funding_year'])"
   ]
  },
  {
   "cell_type": "markdown",
   "metadata": {},
   "source": [
    "<div class=\"alert alert-block alert-success\">\n",
    "<h2> Комментарий ревьюера ✔️</h2>\n",
    "    \n",
    "Отлично, год из даты выделен. В целом модуль dt предоставляет большое число функций по работе с датами.\n",
    "\n",
    "Дополнительно можно посмотреть: https://pandas.pydata.org/docs/reference/api/pandas.Series.dt.date.html\n",
    "</div>"
   ]
  },
  {
   "cell_type": "code",
   "execution_count": 26,
   "metadata": {},
   "outputs": [
    {
     "data": {
      "text/html": [
       "<div>\n",
       "<style scoped>\n",
       "    .dataframe tbody tr th:only-of-type {\n",
       "        vertical-align: middle;\n",
       "    }\n",
       "\n",
       "    .dataframe tbody tr th {\n",
       "        vertical-align: top;\n",
       "    }\n",
       "\n",
       "    .dataframe thead th {\n",
       "        text-align: right;\n",
       "    }\n",
       "</style>\n",
       "<table border=\"1\" class=\"dataframe\">\n",
       "  <thead>\n",
       "    <tr style=\"text-align: right;\">\n",
       "      <th></th>\n",
       "      <th>median_raised</th>\n",
       "      <th>rounds_count</th>\n",
       "    </tr>\n",
       "    <tr>\n",
       "      <th>funding_year</th>\n",
       "      <th></th>\n",
       "      <th></th>\n",
       "    </tr>\n",
       "  </thead>\n",
       "  <tbody>\n",
       "    <tr>\n",
       "      <th>1999.0</th>\n",
       "      <td>2000000.0</td>\n",
       "      <td>76</td>\n",
       "    </tr>\n",
       "    <tr>\n",
       "      <th>2000.0</th>\n",
       "      <td>4200000.0</td>\n",
       "      <td>125</td>\n",
       "    </tr>\n",
       "    <tr>\n",
       "      <th>2001.0</th>\n",
       "      <td>3000000.0</td>\n",
       "      <td>96</td>\n",
       "    </tr>\n",
       "    <tr>\n",
       "      <th>2002.0</th>\n",
       "      <td>4200000.0</td>\n",
       "      <td>116</td>\n",
       "    </tr>\n",
       "    <tr>\n",
       "      <th>2003.0</th>\n",
       "      <td>3000000.0</td>\n",
       "      <td>159</td>\n",
       "    </tr>\n",
       "    <tr>\n",
       "      <th>2004.0</th>\n",
       "      <td>5000000.0</td>\n",
       "      <td>291</td>\n",
       "    </tr>\n",
       "    <tr>\n",
       "      <th>2005.0</th>\n",
       "      <td>5500000.0</td>\n",
       "      <td>1633</td>\n",
       "    </tr>\n",
       "    <tr>\n",
       "      <th>2006.0</th>\n",
       "      <td>5000000.0</td>\n",
       "      <td>2436</td>\n",
       "    </tr>\n",
       "    <tr>\n",
       "      <th>2007.0</th>\n",
       "      <td>3973320.0</td>\n",
       "      <td>3279</td>\n",
       "    </tr>\n",
       "    <tr>\n",
       "      <th>2008.0</th>\n",
       "      <td>3110000.0</td>\n",
       "      <td>3774</td>\n",
       "    </tr>\n",
       "    <tr>\n",
       "      <th>2009.0</th>\n",
       "      <td>2000000.0</td>\n",
       "      <td>4151</td>\n",
       "    </tr>\n",
       "    <tr>\n",
       "      <th>2010.0</th>\n",
       "      <td>1602500.0</td>\n",
       "      <td>6221</td>\n",
       "    </tr>\n",
       "    <tr>\n",
       "      <th>2011.0</th>\n",
       "      <td>1200000.0</td>\n",
       "      <td>9204</td>\n",
       "    </tr>\n",
       "    <tr>\n",
       "      <th>2012.0</th>\n",
       "      <td>1000000.0</td>\n",
       "      <td>9970</td>\n",
       "    </tr>\n",
       "    <tr>\n",
       "      <th>2013.0</th>\n",
       "      <td>1200000.0</td>\n",
       "      <td>11072</td>\n",
       "    </tr>\n",
       "  </tbody>\n",
       "</table>\n",
       "</div>"
      ],
      "text/plain": [
       "              median_raised  rounds_count\n",
       "funding_year                             \n",
       "1999.0            2000000.0            76\n",
       "2000.0            4200000.0           125\n",
       "2001.0            3000000.0            96\n",
       "2002.0            4200000.0           116\n",
       "2003.0            3000000.0           159\n",
       "2004.0            5000000.0           291\n",
       "2005.0            5500000.0          1633\n",
       "2006.0            5000000.0          2436\n",
       "2007.0            3973320.0          3279\n",
       "2008.0            3110000.0          3774\n",
       "2009.0            2000000.0          4151\n",
       "2010.0            1602500.0          6221\n",
       "2011.0            1200000.0          9204\n",
       "2012.0            1000000.0          9970\n",
       "2013.0            1200000.0         11072"
      ]
     },
     "metadata": {},
     "output_type": "display_data"
    }
   ],
   "source": [
    "# Создаем сводную таблицу\n",
    "funding_summary = funding_data.groupby('funding_year').agg(\n",
    "    median_raised=('raised_amount', 'median'),\n",
    "    rounds_count=('raised_amount', 'count')\n",
    ")\n",
    "\n",
    "# Годы с более чем 50 раундами\n",
    "funding_summary = funding_summary[funding_summary['rounds_count'] > 50]\n",
    "\n",
    "# Сортируем по году\n",
    "funding_summary = funding_summary.sort_index()\n",
    "\n",
    "# Выводим результат\n",
    "display(funding_summary)"
   ]
  },
  {
   "cell_type": "markdown",
   "metadata": {},
   "source": [
    "<div class=\"alert alert-block alert-success\">\n",
    "<h2> Комментарий ревьюера ✔️</h2>\n",
    "    \n",
    "Отлично, что используешь `.groupby()`. Но часто удобным вариантов для создания сводной таблицы является .pivot_table, так как предоставляет большие возможности по формированию сводной таблицы.\n",
    "    \n",
    "Подробнее про создание сводных таблиц с помощью .pivot_table написано в https://dfedorov.spb.ru/pandas/%D0%A1%D0%B2%D0%BE%D0%B4%D0%BD%D0%B0%D1%8F%20%D1%82%D0%B0%D0%B1%D0%BB%D0%B8%D1%86%D0%B0%20%D0%B2%20pandas.html\n",
    "</div>"
   ]
  },
  {
   "cell_type": "markdown",
   "metadata": {},
   "source": [
    "<div class=\"alert alert-block alert-success\">\n",
    "<h2> Комментарий ревьюера ✔️</h2>\n",
    "    \n",
    "Да, медиана будет подходящей средней мерой. В данных у нас есть выбросы, поэтому среднее значение нельзя использовать для оценки типичного размера финансирования и нужно использовать медиану. Это связано с тем, что среднее значение не будет показательно при наличии аномальных значений и распределении отличном от нормального. \n",
    "</div>"
   ]
  },
  {
   "cell_type": "markdown",
   "metadata": {},
   "source": [
    "<div class=\"alert alert-block alert-success\">\n",
    "<h2> Комментарий ревьюера ✔️</h2>\n",
    "    \n",
    "Данные отфильтрованы верно - нужно учитывать только те года в которые было более 50 раундов финансирвоания.\n",
    "</div>"
   ]
  },
  {
   "cell_type": "code",
   "execution_count": 27,
   "metadata": {},
   "outputs": [
    {
     "name": "stderr",
     "output_type": "stream",
     "text": [
      "No handles with labels found to put in legend.\n"
     ]
    },
    {
     "data": {
      "image/png": "[encoded data removed]",
      "text/plain": [
       "<Figure size 864x432 with 1 Axes>"
      ]
     },
     "metadata": {
      "needs_background": "light"
     },
     "output_type": "display_data"
    }
   ],
   "source": [
    "plt.figure(figsize=(12, 6))\n",
    "\n",
    "# График медианной суммы финансирования\n",
    "plt.plot(funding_summary.index, funding_summary['median_raised'])\n",
    "\n",
    "# Настройки графика\n",
    "plt.title('Динамика типичного размера средств в раундах финансирования', fontsize=14)\n",
    "plt.xlabel('Год', fontsize=12)\n",
    "plt.ylabel('Медианная сумма', fontsize=12)\n",
    "plt.grid(True, linestyle='--', alpha=0.7)\n",
    "plt.legend()\n",
    "\n",
    "plt.show()"
   ]
  },
  {
   "cell_type": "markdown",
   "metadata": {},
   "source": [
    "<div class=\"alert alert-block alert-warning\">\n",
    "<h2> Комментарий ревьюера ⚠️</h2>\n",
    "    \n",
    "Молодец, что добавила подписи по осям и заголовок к графику, но рекомендую добавить размерность сумм финансирования. Так будет по графику сразу понятно в какой валюте указаны суммы финансирования.\n",
    "</div>"
   ]
  },
  {
   "cell_type": "markdown",
   "metadata": {},
   "source": [
    "- В каком году типичный размер собранных в рамках одного раунда средств был максимален?"
   ]
  },
  {
   "cell_type": "code",
   "execution_count": 28,
   "metadata": {},
   "outputs": [
    {
     "name": "stdout",
     "output_type": "stream",
     "text": [
      "Максимальный типичный размер раунда был в 2005.0\n",
      "Максимальный медианный размер раунда: 5500000.0\n"
     ]
    }
   ],
   "source": [
    "max_year = funding_summary['median_raised'].idxmax()\n",
    "max_median = funding_summary['median_raised'].max()\n",
    "print(f\"Максимальный типичный размер раунда был в {max_year}\")\n",
    "print(f\"Максимальный медианный размер раунда: {max_median}\")"
   ]
  },
  {
   "cell_type": "markdown",
   "metadata": {},
   "source": [
    "- Какая тенденция по количеству раундов и выделяемых в рамках каждого раунда средств наблюдалась в 2013 году?"
   ]
  },
  {
   "cell_type": "code",
   "execution_count": 29,
   "metadata": {},
   "outputs": [
    {
     "name": "stdout",
     "output_type": "stream",
     "text": [
      "\n",
      "В 2013 году наблюдалось:\n",
      "- Количество раундов: 11072.0\n",
      "- Медианная сумма раунда: 1,200,000\n"
     ]
    }
   ],
   "source": [
    "year_2013 = funding_summary.loc[2013]\n",
    "print(f\"\\nВ 2013 году наблюдалось:\")\n",
    "print(f\"- Количество раундов: {year_2013['rounds_count']}\")\n",
    "print(f\"- Медианная сумма раунда: {year_2013['median_raised']:,.0f}\")"
   ]
  },
  {
   "cell_type": "markdown",
   "metadata": {},
   "source": [
    "Выводы:\n",
    "\n",
    "Максимальный типичный размер средств в рамках одного раунда финансирования был в 2005 году 5500000.0. Это может свидетельствовать о высокой инвестиционной активности в отдельных крупных сделках того периода\n",
    "\n",
    "В 2013 году наблюдалась следующая тенденция:\n",
    "\n",
    "Количество раундов финансирования: 11072.0\n",
    "\n",
    "Медианная сумма раунда: медиана 1200000 ниже пикового значения 2005 года, но всё ещё достаточно существенный показатель.\n",
    "\n",
    " к 2013 году рынок, судя по количеству раундов, стал более массовым и доступным для большего числа стартапов, при этом размер типичных (медианных) инвестиций снизился по сравнению с максимумом."
   ]
  },
  {
   "cell_type": "markdown",
   "metadata": {},
   "source": [
    "<div class=\"alert alert-block alert-success\">\n",
    "<h2> Комментарий ревьюера ✔️</h2>\n",
    "    \n",
    "Ты верно отметила, что максимальный размер финансирования был в 2005 году.\n",
    "    \n",
    "Для более детального анализа особенностей финансирования полезным будет построение на одном графики динамики количества раундов и медианного размера средств. На основе этого графика можно будет сделать вывод относительно того в связи с чем меняется типичный размер финансирования.\n",
    "    \n",
    "```\n",
    "df_piv2 = df_company_and_rounds[df_company_and_rounds['raised_amount'] > 0]\\\n",
    "            .groupby(pd.Grouper(key='funded_at', freq='YE'))\\\n",
    "            .agg(\n",
    "                median_raised_amount=('raised_amount', 'median'),\n",
    "                count_raised_amount=('raised_amount', 'count')\n",
    "            )\n",
    "df_piv2 = df_piv2.query('count_raised_amount > 50').copy()\n",
    "ax2 = (ax := df_piv2[['median_raised_amount']].plot()).twinx()\n",
    "df_piv2[['count_raised_amount']].plot(ax=ax2, color='red')\n",
    "ax2.set_ylabel('Количество раундов')\n",
    "ax.set_ylabel('Медианный размер средств, млн. долл.')\n",
    "plt.xlabel('Год')\n",
    "plt.title('Динамика типичного размера средств в рамках одного раунда')\n",
    "plt.show()\n",
    "```\n",
    "</div>"
   ]
  },
  {
   "cell_type": "markdown",
   "metadata": {
    "id": "45if1en1rJg2"
   },
   "source": [
    "\n",
    "### 2.2. Люди и их образование\n",
    "\n",
    "Заказчик хочет понять, зависит ли полнота сведений о сотрудниках (например, об их образовании) от размера компаний.\n",
    "\n",
    "- Оцените, насколько информация об образовании сотрудников полна. Используя датасеты `people.csv` и `education.csv`, разделите все компании на несколько групп по количеству сотрудников и оцените среднюю долю сотрудников без информации об образовании в каждой из групп. Обоснуйте выбранные границы групп.\n",
    "- Оцените, возможно ли для выполнения задания присоединить к этим таблицам ещё и таблицу `degrees.csv`."
   ]
  },
  {
   "cell_type": "code",
   "execution_count": 30,
   "metadata": {
    "id": "psPO7C4MrJg2",
    "vscode": {
     "languageId": "plaintext"
    }
   },
   "outputs": [
    {
     "name": "stdout",
     "output_type": "stream",
     "text": [
      "   company_id  num_people\n",
      "0         1.0           2\n",
      "1         2.0           1\n",
      "2         3.0           3\n",
      "3         4.0          13\n",
      "4         5.0          61\n"
     ]
    }
   ],
   "source": [
    "# Подсчёт сотрудников по company_id\n",
    "people_per_company = people.groupby('company_id')['id'].count().reset_index()\n",
    "people_per_company.columns = ['company_id', 'num_people']\n",
    "print(people_per_company.head())"
   ]
  },
  {
   "cell_type": "code",
   "execution_count": 31,
   "metadata": {},
   "outputs": [
    {
     "name": "stdout",
     "output_type": "stream",
     "text": [
      "   person_id  edu_records\n",
      "0     183805           10\n",
      "1      93386            9\n",
      "2     206784            8\n",
      "3      65231            8\n",
      "4     228604            8\n"
     ]
    }
   ],
   "source": [
    "# Образование сотрудников. Считаем сколько уникальных person_id есть в таблице education\n",
    "edu_per_person = education['person_id'].value_counts().reset_index()\n",
    "edu_per_person.columns = ['person_id', 'edu_records']\n",
    "print(edu_per_person.head())"
   ]
  },
  {
   "cell_type": "code",
   "execution_count": 32,
   "metadata": {},
   "outputs": [
    {
     "name": "stdout",
     "output_type": "stream",
     "text": [
      "       id  company_id  edu_records\n",
      "0      10         5.0          1.0\n",
      "1     100        27.0          NaN\n",
      "2    1000       292.0          NaN\n",
      "3   10000      2526.0          NaN\n",
      "4  100000         NaN          NaN\n"
     ]
    }
   ],
   "source": [
    "# Объединение с таблицей сотрудников (чтобы связать person_id с company_id)\n",
    "people_with_edu = people.merge(edu_per_person, how='left', left_on='id', right_on='person_id')\n",
    "print(people_with_edu[['id', 'company_id', 'edu_records']].head())"
   ]
  },
  {
   "cell_type": "markdown",
   "metadata": {},
   "source": [
    "<div class=\"alert alert-block alert-success\">\n",
    "<h2> Комментарий ревьюера ✔️</h2>\n",
    "    \n",
    "Отлично, объединение данных выполнено и здорово, что проверила корректность соединения данных. \n",
    "</div>"
   ]
  },
  {
   "cell_type": "code",
   "execution_count": 33,
   "metadata": {},
   "outputs": [
    {
     "name": "stdout",
     "output_type": "stream",
     "text": [
      "       id  has_edu\n",
      "0      10     True\n",
      "1     100    False\n",
      "2    1000    False\n",
      "3   10000    False\n",
      "4  100000    False\n"
     ]
    }
   ],
   "source": [
    "# сотрудники без данных об образовании. (True, если образование есть)\n",
    "people_with_edu['has_edu'] = ~people_with_edu['edu_records'].isna()\n",
    "print(people_with_edu[['id', 'has_edu']].head())"
   ]
  },
  {
   "cell_type": "code",
   "execution_count": 34,
   "metadata": {},
   "outputs": [
    {
     "name": "stdout",
     "output_type": "stream",
     "text": [
      "   company_id  num_people  num_with_edu\n",
      "0         1.0           2             1\n",
      "1         2.0           1             1\n",
      "2         3.0           3             2\n",
      "3         4.0          13            12\n",
      "4         5.0          61            45\n"
     ]
    }
   ],
   "source": [
    "# Группирую по company_id, те сколько человек и сколько с образованием\n",
    "edu_by_company = people_with_edu.groupby('company_id').agg(\n",
    "    num_people=('id', 'count'),\n",
    "    num_with_edu=('has_edu', 'sum')\n",
    ").reset_index()\n",
    "print(edu_by_company.head())"
   ]
  },
  {
   "cell_type": "code",
   "execution_count": 35,
   "metadata": {},
   "outputs": [
    {
     "name": "stdout",
     "output_type": "stream",
     "text": [
      "   company_id  num_people  num_with_edu  share_without_edu\n",
      "0         1.0           2             1           0.500000\n",
      "1         2.0           1             1           0.000000\n",
      "2         3.0           3             2           0.333333\n",
      "3         4.0          13            12           0.076923\n",
      "4         5.0          61            45           0.262295\n"
     ]
    }
   ],
   "source": [
    "# Добавлю долю без образования\n",
    "edu_by_company['share_without_edu'] = 1 - (edu_by_company['num_with_edu'] / edu_by_company['num_people'])\n",
    "print(edu_by_company[['company_id', 'num_people', 'num_with_edu', 'share_without_edu']].head())"
   ]
  },
  {
   "cell_type": "markdown",
   "metadata": {},
   "source": [
    "Вывод:\n",
    "- Для каждого сотрудника была определена метка has_edu, отражающая наличие сведений об образовании.\n",
    "- Затем данные были агрегированы по компаниям: для каждой компании рассчитано общее число сотрудников и число тех, чьи сведения об образовании имеются.\n",
    "- Вычислена доля сотрудников без информации об образовании по каждой компании."
   ]
  },
  {
   "cell_type": "markdown",
   "metadata": {},
   "source": [
    "\n",
    "### 2.2. Люди и их образование\n",
    "\n",
    "Заказчик хочет понять, зависит ли полнота сведений о сотрудниках (например, об их образовании) от размера компаний.\n",
    "\n",
    "- Оцените, насколько информация об образовании сотрудников полна. Используя датасеты `people.csv` и `education.csv`, разделите все компании на несколько групп по количеству сотрудников и оцените среднюю долю сотрудников без информации об образовании в каждой из групп. Обоснуйте выбранные границы групп.\n",
    "- Оцените, возможно ли для выполнения задания присоединить к этим таблицам ещё и таблицу `degrees.csv`."
   ]
  },
  {
   "cell_type": "code",
   "execution_count": 36,
   "metadata": {},
   "outputs": [
    {
     "name": "stdout",
     "output_type": "stream",
     "text": [
      "Столбцы в people_edu: ['id_x', 'first_name', 'last_name', 'company_id', 'network_username', 'id_y', 'person_id', 'instituition', 'graduated_at']\n"
     ]
    }
   ],
   "source": [
    "# Объединим таблицы people и education\n",
    "people_edu = pd.merge(\n",
    "    people, \n",
    "    education, \n",
    "    left_on='id', \n",
    "    right_on='person_id', \n",
    "    how='left'\n",
    ")\n",
    "\n",
    "# Проверяем названия столбцов в получившейся таблице\n",
    "print(\"Столбцы в people_edu:\", people_edu.columns.tolist())"
   ]
  },
  {
   "cell_type": "code",
   "execution_count": 37,
   "metadata": {},
   "outputs": [],
   "source": [
    "people_edu['has_education'] = people_edu['person_id'].notna()"
   ]
  },
  {
   "cell_type": "code",
   "execution_count": 38,
   "metadata": {},
   "outputs": [],
   "source": [
    "# Группируем по компаниям\n",
    "company_stats = people_edu.groupby('company_id').agg(\n",
    "    total_employees=('id_x', 'nunique'),  # уникальные сотрудники\n",
    "    employees_with_education=('person_id', 'nunique')  # уникальные сотрудники с образованием\n",
    ")"
   ]
  },
  {
   "cell_type": "markdown",
   "metadata": {},
   "source": [
    "<div class=\"alert alert-block alert-danger\">\n",
    "<h2> Комментарий ревьюера ❌</h2>\n",
    "      \n",
    "При расчёте показателей необходимо учесть, что в таблицах про образование и степени несколько строк относятся к одному человеку.\n",
    "    \n",
    "Стоит использовать не `count`, а `nunique`. \n",
    "</div>"
   ]
  },
  {
   "cell_type": "markdown",
   "metadata": {},
   "source": [
    "Да, поняла, действительно, нужно учитывать уникальных людей, а не строки.\n",
    "\n",
    "Спасибо, Исправила!"
   ]
  },
  {
   "cell_type": "markdown",
   "metadata": {},
   "source": [
    "<div class=\"alert alert-block alert-success\">\n",
    "<h2> Комментарий ревьюера v. 2 ✔️</h2>\n",
    "    \n",
    "Да, теперь расчёт выполнен правильно 👍👍👍\n",
    "</div>"
   ]
  },
  {
   "cell_type": "code",
   "execution_count": 39,
   "metadata": {},
   "outputs": [
    {
     "name": "stdout",
     "output_type": "stream",
     "text": [
      "            total_employees  employees_with_education  no_education_ratio\n",
      "company_id                                                               \n",
      "1.0                       2                         1            0.500000\n",
      "2.0                       1                         1            0.000000\n",
      "3.0                       3                         2            0.333333\n",
      "4.0                      13                        12            0.076923\n",
      "5.0                      61                        45            0.262295\n"
     ]
    }
   ],
   "source": [
    "# Вычисляем долю сотрудников без информации об образовании\n",
    "company_stats['no_education_ratio'] = 1 - (company_stats['employees_with_education'] / company_stats['total_employees'])\n",
    "\n",
    "print(company_stats.head())"
   ]
  },
  {
   "cell_type": "code",
   "execution_count": 40,
   "metadata": {},
   "outputs": [],
   "source": [
    "\n",
    "# Разделим компании на группы: 1, 2-5, 6-10, 11-20, 21+\n",
    "bins = [0, 1, 5, 10, 20, np.inf]\n",
    "labels = ['1', '2-5', '6-10', '11-20', '21+']\n",
    "\n",
    "company_stats['size_group'] = pd.cut(\n",
    "    company_stats['total_employees'],\n",
    "    bins=bins,\n",
    "    labels=labels,\n",
    "    right=True,       # включает правую границу (по умолчанию True)\n",
    "    include_lowest=True  # включает нижнюю границу (важно для 1 сотрудника)\n",
    ")"
   ]
  },
  {
   "cell_type": "code",
   "execution_count": 41,
   "metadata": {},
   "outputs": [
    {
     "name": "stdout",
     "output_type": "stream",
     "text": [
      "\n",
      "Распределение компаний по группам:\n",
      "1        18117\n",
      "2-5       4317\n",
      "6-10       368\n",
      "11-20       92\n",
      "21+         28\n",
      "Name: size_group, dtype: int64\n"
     ]
    }
   ],
   "source": [
    "# Проверяем распределение компаний по группам\n",
    "group_distribution = company_stats['size_group'].value_counts().sort_index()\n",
    "print(\"\\nРаспределение компаний по группам:\")\n",
    "print(group_distribution)"
   ]
  },
  {
   "cell_type": "markdown",
   "metadata": {},
   "source": [
    "Обоснование границ:\n",
    "\n",
    "- 1  Добавила эту категорию\n",
    "- 2-5 Основатели и минимальный штат. На этой стадии компания обычно состоит только из основателей и первых наемных работников.\n",
    "- 6-10 сотрудников - Формирование базовой команды. Компания начинает нанимать первых специалистов. Процессы кадрового учета становятся более формализованными.\n",
    "- 11-20 сотрудников - Стартап с отделами. Появляются функциональные отделы.\n",
    "- 21-50 сотрудников - Средняя компания. Полнеценная организация с выстроенными процессами\n",
    "- 50+ сотрудников - Крупный бизнес\n",
    "\n",
    "\n",
    "\n",
    "\n",
    "С увеличением размера компании, как правило, доля сотрудников без информации об образовании снижается.\n",
    "\n",
    "Это указывает на то, что крупные компании лучше ведут учёт персональных данных, включая образование.\n",
    "\n",
    "Малые и особенно микрокомпании могут не систематизировать такие сведения, либо просто не собирать их."
   ]
  },
  {
   "cell_type": "markdown",
   "metadata": {},
   "source": [
    "<div class=\"alert alert-block alert-success\">\n",
    "<h2> Комментарий ревьюера v. 2 ✔️</h2>\n",
    "    \n",
    "Да, в крупных компаниях, как правило, более полная информация об образовании сотрудников. Это может быть связано с более строгими требованиями к образованию сотрудников или же в силу лучшей организации сбора и хранения персональных данных о сотрудниках.\n",
    "</div>"
   ]
  },
  {
   "cell_type": "markdown",
   "metadata": {},
   "source": [
    "<div class=\"alert alert-block alert-warning\">\n",
    "<h2> Комментарий ревьюера ⚠️</h2>\n",
    "    \n",
    "Стартапы с 1 сотрудником логичнее выделить в отдельную группу, так как эта категория выделяется среди стартапов с малым, но не равным 1 числом сотрудников.\n",
    "    \n",
    "Помимо этого, для более достоверного анализа группы желателньо чтобы были примерно близкого размера.\n",
    "</div>"
   ]
  },
  {
   "cell_type": "markdown",
   "metadata": {},
   "source": [
    "Исправила"
   ]
  },
  {
   "cell_type": "markdown",
   "metadata": {},
   "source": [
    "<div class=\"alert alert-block alert-success\">\n",
    "<h2> Комментарий ревьюера v. 2 ✔️</h2>\n",
    "    \n",
    "Молодец, что выделила стартапы с одним сотрудников в отдельную группу и добавила группу с крупными компаниями. Это позволит более детально проанализировать долю сотрудников без информации об образования в разрезе размера компаний.\n",
    "</div>"
   ]
  },
  {
   "cell_type": "markdown",
   "metadata": {},
   "source": [
    "Таблица degrees\n",
    "\n",
    "- id — идентификатор записи.\n",
    "- object_id — идентификатор сотрудника.\n",
    "- degree_type — тип образования.\n",
    "- subject — специальность.\n",
    "\n",
    "Таблицы могут быть соединены, но: Только примерно 60% записей из education имеют соответствие в degrees, поэтому соедиенение будет излишне"
   ]
  },
  {
   "cell_type": "markdown",
   "metadata": {
    "id": "Lz7qjM32xglW"
   },
   "source": [
    "### 2.3. Объединять или не объединять — вот в чём вопрос\n",
    "\n",
    "Некоторые названия столбцов встречаются в датасетах чаще других. В результате предварительной проверки датасетов было выяснено, что столбец `company_id` подходит для объединения данных.\n",
    "\n",
    "- Установите, подходит ли для объединения данных столбец `network_username`, который встречается в нескольких датасетах. Нам необходимо понимать, дублируется ли для разных датасетов информация в столбцах с таким названием, и если да — то насколько часто.\n",
    "- Оцените, можно ли использовать столбцы с именем `network_username` для объединения данных."
   ]
  },
  {
   "cell_type": "markdown",
   "metadata": {
    "id": "zyI3rt0rxg1O"
   },
   "source": [
    "network_username - встречается в таблицах people и company_and_rounds"
   ]
  },
  {
   "cell_type": "markdown",
   "metadata": {},
   "source": [
    "<div class=\"alert alert-block alert-danger\">\n",
    "<h2> Комментарий ревьюера ❌</h2>\n",
    "      \n",
    "К сожалению, при запуске кода возникает ошибка и это нужно исправить. После этого я смогу продолжить проверку проекта.\n",
    "</div>"
   ]
  },
  {
   "cell_type": "markdown",
   "metadata": {},
   "source": [
    "<div class=\"alert alert-block alert-success\">\n",
    "<h2> Комментарий ревьюера v. 2 ✔️</h2>\n",
    "    \n",
    "Ок, теперь ошибка исправлена и код запускается)\n",
    "</div>"
   ]
  },
  {
   "cell_type": "code",
   "execution_count": 42,
   "metadata": {},
   "outputs": [],
   "source": [
    "# Извлекаем usernames из каждого датафрейма\n",
    "usernames_people = people['network_username'].dropna()\n",
    "usernames_company = company_and_rounds['network_username'].dropna()"
   ]
  },
  {
   "cell_type": "code",
   "execution_count": 43,
   "metadata": {},
   "outputs": [],
   "source": [
    "# Множества для пересечения\n",
    "set_people = set(usernames_people)\n",
    "set_company = set(usernames_company)"
   ]
  },
  {
   "cell_type": "code",
   "execution_count": 44,
   "metadata": {},
   "outputs": [
    {
     "name": "stdout",
     "output_type": "stream",
     "text": [
      "Общее количество совпадающих usernames: 2199\n",
      "Доля от всех usernames из people: 5.72%\n",
      "Доля от всех usernames из company_and_rounds: 2.76%\n"
     ]
    }
   ],
   "source": [
    "# Пересечение\n",
    "intersection = set_people & set_company\n",
    "\n",
    "print(f'Общее количество совпадающих usernames: {len(intersection)}')\n",
    "print(f'Доля от всех usernames из people: {len(intersection)/len(set_people):.2%}')\n",
    "print(f'Доля от всех usernames из company_and_rounds: {len(intersection)/len(set_company):.2%}')"
   ]
  },
  {
   "cell_type": "code",
   "execution_count": 45,
   "metadata": {},
   "outputs": [
    {
     "name": "stdout",
     "output_type": "stream",
     "text": [
      "Повторяющихся usernames в people: 425\n",
      "Повторяющихся usernames в company_and_rounds: 8409\n"
     ]
    }
   ],
   "source": [
    "# Проверка на дубликаты\n",
    "duplicates_people = usernames_people[usernames_people.duplicated()]\n",
    "duplicates_company = usernames_company[usernames_company.duplicated()]\n",
    "\n",
    "print(f'Повторяющихся usernames в people: {duplicates_people.nunique()}')\n",
    "print(f'Повторяющихся usernames в company_and_rounds: {duplicates_company.nunique()}')"
   ]
  },
  {
   "cell_type": "markdown",
   "metadata": {},
   "source": [
    "Вывод:\n",
    "\n",
    "- Совпадений usernames между двумя датасетами — 2 199.\n",
    "- Это составляет 5,72% , те пересечение довольно небольшое\n",
    "- 100% от всех usernames в company_and_rounds — то есть все usernames из этого датасета встречаются и в people.\n",
    "\n",
    "Дублткаты\n",
    "- В people — 425 usernames встречаются более одного раза.\n",
    "- В company_and_rounds — 8 409 usernames дублируются.\n",
    "\n",
    "Это означает, что network_username не является уникальным идентификатором ни в одном из датасетов.\n",
    "\n",
    "Таким образом, network_username можно использовать только для ориентировочного сопоставления данных, например, для поиска совпадений или агрегации по группам. "
   ]
  },
  {
   "cell_type": "markdown",
   "metadata": {},
   "source": [
    "<div class=\"alert alert-block alert-success\">\n",
    "<h2> Комментарий ревьюера v. 2 ✔️</h2>\n",
    "    \n",
    "Да, Ты верно определила, что столбец `network_username` не является уникальным идентификатором ни в одном из датасетов. В связи с этим данные нельзя в данном случае объединять, так как результат может получиться некорректным (слишком много пропусков, дубликатов и т. д.). \n",
    "    \n",
    "Молодец, что воспользовалась свойством множества содержать только уникальные элементы  для того, чтобы проверить общие значения по столбцам.\n",
    "</div>"
   ]
  },
  {
   "cell_type": "markdown",
   "metadata": {
    "id": "EHcODomVrJg1"
   },
   "source": [
    "\n",
    "### 2.4. Проблемный датасет и причина возникновения пропусков\n",
    "\n",
    "Во время собственного анализа данных у заказчика больше всего вопросов возникло к датасету `company_and_rounds.csv`. В нём много пропусков как раз в информации о раундах, которая заказчику важна.\n",
    "\n",
    "- Любым удобным способом приведите данные в вид, который позволит в дальнейшем проводить анализ в разрезе отдельных компаний. Обратите внимание на структуру датасета, порядок и названия столбцов, проанализируйте значения.\n",
    "\n",
    "По гипотезе заказчика данные по компаниям из этой таблицы раньше хранились иначе, более удобным для исследования образом.\n",
    "\n",
    "- Максимальным образом сохраняя данные, сохранив их связность и исключив возможные возникающие при этом ошибки, подготовьте данные так, чтобы удобно было отобрать компании по параметрам и рассчитать показатели из расчёта на одну компанию без промежуточных агрегаций."
   ]
  },
  {
   "cell_type": "markdown",
   "metadata": {},
   "source": [
    "Вспоиним, что делали ранее, как переимовывали таблицы"
   ]
  },
  {
   "cell_type": "markdown",
   "metadata": {},
   "source": [
    "Я случайно удалила комментарий, там не работал код, тк было неправильное название датасета, исправила"
   ]
  },
  {
   "cell_type": "code",
   "execution_count": 46,
   "metadata": {},
   "outputs": [
    {
     "name": "stdout",
     "output_type": "stream",
     "text": [
      "Index(['company_id', 'name', 'category_code', 'status', 'founded_at',\n",
      "       'closed_at', 'domain', 'network_username', 'country_code',\n",
      "       'investment_rounds', 'funding_rounds', 'funding_total', 'milestones',\n",
      "       'funding_round_id', 'company_id_2', 'funded_at', 'funding_round_type',\n",
      "       'raised_amount', 'pre_money_valuation', 'participants',\n",
      "       'is_first_round', 'is_last_round', 'funding_year'],\n",
      "      dtype='object')\n"
     ]
    }
   ],
   "source": [
    "# Переименовываем один из столбцов, чтобы избежать дубликатов после преобразования\n",
    "company_and_rounds = company_and_rounds.rename(columns={\n",
    "    'company  id': 'company_id_2'  # временно меняем имя, чтобы избежать конфликта\n",
    "})\n",
    "\n",
    "# Переименуем столбцы и сохраним изменения\n",
    "company_and_rounds.columns = (\n",
    "    company_and_rounds.columns\n",
    "    .str.lower()\n",
    "    .str.replace(r'\\s+', '_', regex=True)\n",
    ")\n",
    "print(company_and_rounds.columns)"
   ]
  },
  {
   "cell_type": "code",
   "execution_count": 47,
   "metadata": {},
   "outputs": [
    {
     "name": "stdout",
     "output_type": "stream",
     "text": [
      "0\n"
     ]
    }
   ],
   "source": [
    "# Полные дубликаты строк\n",
    "duplicates = company_and_rounds.duplicated().sum()\n",
    "print(duplicates)"
   ]
  },
  {
   "cell_type": "markdown",
   "metadata": {},
   "source": [
    "Для удобства разделим эьу таблтцу на две \n",
    "1) Создам таблицу с основной информацией о компаниях\n",
    "2) Создам таблицу с информацией о раундах финансирования"
   ]
  },
  {
   "cell_type": "markdown",
   "metadata": {},
   "source": [
    "<div class=\"alert alert-block alert-success\">\n",
    "<h2> Комментарий ревьюера v. 2 ✔️</h2>\n",
    "    \n",
    "На основе анализа числа пропусков и исходя из названия датасета можно сделать вывод, что данные получены путём объединения из двух источников и поэтому датафрейм нужно разделить на две части.\n",
    "</div>"
   ]
  },
  {
   "cell_type": "code",
   "execution_count": 48,
   "metadata": {},
   "outputs": [
    {
     "data": {
      "text/html": [
       "<div>\n",
       "<style scoped>\n",
       "    .dataframe tbody tr th:only-of-type {\n",
       "        vertical-align: middle;\n",
       "    }\n",
       "\n",
       "    .dataframe tbody tr th {\n",
       "        vertical-align: top;\n",
       "    }\n",
       "\n",
       "    .dataframe thead th {\n",
       "        text-align: right;\n",
       "    }\n",
       "</style>\n",
       "<table border=\"1\" class=\"dataframe\">\n",
       "  <thead>\n",
       "    <tr style=\"text-align: right;\">\n",
       "      <th></th>\n",
       "      <th>company_id</th>\n",
       "      <th>name</th>\n",
       "      <th>category_code</th>\n",
       "      <th>status</th>\n",
       "      <th>founded_at</th>\n",
       "      <th>closed_at</th>\n",
       "      <th>domain</th>\n",
       "      <th>network_username</th>\n",
       "      <th>country_code</th>\n",
       "      <th>investment_rounds</th>\n",
       "      <th>funding_rounds</th>\n",
       "      <th>funding_total</th>\n",
       "      <th>milestones</th>\n",
       "    </tr>\n",
       "  </thead>\n",
       "  <tbody>\n",
       "    <tr>\n",
       "      <th>0</th>\n",
       "      <td>1.0</td>\n",
       "      <td>Wetpaint</td>\n",
       "      <td>web</td>\n",
       "      <td>operating</td>\n",
       "      <td>2005-10-17</td>\n",
       "      <td>NaT</td>\n",
       "      <td>wetpaint-inc.com</td>\n",
       "      <td>BachelrWetpaint</td>\n",
       "      <td>USA</td>\n",
       "      <td>0.0</td>\n",
       "      <td>3.0</td>\n",
       "      <td>39750000.0</td>\n",
       "      <td>5.0</td>\n",
       "    </tr>\n",
       "    <tr>\n",
       "      <th>3</th>\n",
       "      <td>10.0</td>\n",
       "      <td>Flektor</td>\n",
       "      <td>games_video</td>\n",
       "      <td>acquired</td>\n",
       "      <td>NaT</td>\n",
       "      <td>NaT</td>\n",
       "      <td>flektor.com</td>\n",
       "      <td>NaN</td>\n",
       "      <td>USA</td>\n",
       "      <td>0.0</td>\n",
       "      <td>0.0</td>\n",
       "      <td>0.0</td>\n",
       "      <td>0.0</td>\n",
       "    </tr>\n",
       "    <tr>\n",
       "      <th>4</th>\n",
       "      <td>100.0</td>\n",
       "      <td>There</td>\n",
       "      <td>games_video</td>\n",
       "      <td>acquired</td>\n",
       "      <td>NaT</td>\n",
       "      <td>NaT</td>\n",
       "      <td>there.com</td>\n",
       "      <td>NaN</td>\n",
       "      <td>USA</td>\n",
       "      <td>0.0</td>\n",
       "      <td>0.0</td>\n",
       "      <td>0.0</td>\n",
       "      <td>4.0</td>\n",
       "    </tr>\n",
       "    <tr>\n",
       "      <th>5</th>\n",
       "      <td>10000.0</td>\n",
       "      <td>MYWEBBO</td>\n",
       "      <td>network_hosting</td>\n",
       "      <td>operating</td>\n",
       "      <td>2008-07-26</td>\n",
       "      <td>NaT</td>\n",
       "      <td>mywebbo.com</td>\n",
       "      <td>NaN</td>\n",
       "      <td>NaN</td>\n",
       "      <td>0.0</td>\n",
       "      <td>0.0</td>\n",
       "      <td>0.0</td>\n",
       "      <td>0.0</td>\n",
       "    </tr>\n",
       "    <tr>\n",
       "      <th>6</th>\n",
       "      <td>10001.0</td>\n",
       "      <td>THE Movie Streamer</td>\n",
       "      <td>games_video</td>\n",
       "      <td>operating</td>\n",
       "      <td>2008-07-26</td>\n",
       "      <td>NaT</td>\n",
       "      <td>themoviestreamer.com</td>\n",
       "      <td>NaN</td>\n",
       "      <td>NaN</td>\n",
       "      <td>0.0</td>\n",
       "      <td>0.0</td>\n",
       "      <td>0.0</td>\n",
       "      <td>0.0</td>\n",
       "    </tr>\n",
       "  </tbody>\n",
       "</table>\n",
       "</div>"
      ],
      "text/plain": [
       "   company_id                name    category_code     status founded_at  \\\n",
       "0         1.0            Wetpaint              web  operating 2005-10-17   \n",
       "3        10.0             Flektor      games_video   acquired        NaT   \n",
       "4       100.0               There      games_video   acquired        NaT   \n",
       "5     10000.0             MYWEBBO  network_hosting  operating 2008-07-26   \n",
       "6     10001.0  THE Movie Streamer      games_video  operating 2008-07-26   \n",
       "\n",
       "  closed_at                domain network_username country_code  \\\n",
       "0       NaT      wetpaint-inc.com  BachelrWetpaint          USA   \n",
       "3       NaT           flektor.com              NaN          USA   \n",
       "4       NaT             there.com              NaN          USA   \n",
       "5       NaT           mywebbo.com              NaN          NaN   \n",
       "6       NaT  themoviestreamer.com              NaN          NaN   \n",
       "\n",
       "   investment_rounds  funding_rounds  funding_total  milestones  \n",
       "0                0.0             3.0     39750000.0         5.0  \n",
       "3                0.0             0.0            0.0         0.0  \n",
       "4                0.0             0.0            0.0         4.0  \n",
       "5                0.0             0.0            0.0         0.0  \n",
       "6                0.0             0.0            0.0         0.0  "
      ]
     },
     "execution_count": 48,
     "metadata": {},
     "output_type": "execute_result"
    }
   ],
   "source": [
    "# Информация о компании \n",
    "company_columns = [\n",
    "    'company_id', 'name', 'category_code', 'status',\n",
    "    'founded_at', 'closed_at', 'domain', 'network_username',\n",
    "    'country_code', 'investment_rounds', 'funding_rounds',\n",
    "    'funding_total', 'milestones'\n",
    "]\n",
    "\n",
    "company_df = company_and_rounds[company_columns].drop_duplicates(subset='company_id')\n",
    "company_df.head()"
   ]
  },
  {
   "cell_type": "code",
   "execution_count": 49,
   "metadata": {},
   "outputs": [
    {
     "data": {
      "text/html": [
       "<div>\n",
       "<style scoped>\n",
       "    .dataframe tbody tr th:only-of-type {\n",
       "        vertical-align: middle;\n",
       "    }\n",
       "\n",
       "    .dataframe tbody tr th {\n",
       "        vertical-align: top;\n",
       "    }\n",
       "\n",
       "    .dataframe thead th {\n",
       "        text-align: right;\n",
       "    }\n",
       "</style>\n",
       "<table border=\"1\" class=\"dataframe\">\n",
       "  <thead>\n",
       "    <tr style=\"text-align: right;\">\n",
       "      <th></th>\n",
       "      <th>company_id</th>\n",
       "      <th>funding_round_id</th>\n",
       "      <th>funded_at</th>\n",
       "      <th>funding_round_type</th>\n",
       "      <th>raised_amount</th>\n",
       "      <th>pre_money_valuation</th>\n",
       "      <th>participants</th>\n",
       "      <th>is_first_round</th>\n",
       "      <th>is_last_round</th>\n",
       "    </tr>\n",
       "  </thead>\n",
       "  <tbody>\n",
       "    <tr>\n",
       "      <th>0</th>\n",
       "      <td>1.0</td>\n",
       "      <td>888.0</td>\n",
       "      <td>2005-10-01</td>\n",
       "      <td>series-a</td>\n",
       "      <td>5250000.0</td>\n",
       "      <td>0.0</td>\n",
       "      <td>2.0</td>\n",
       "      <td>False</td>\n",
       "      <td>True</td>\n",
       "    </tr>\n",
       "    <tr>\n",
       "      <th>1</th>\n",
       "      <td>1.0</td>\n",
       "      <td>889.0</td>\n",
       "      <td>2007-01-01</td>\n",
       "      <td>series-b</td>\n",
       "      <td>9500000.0</td>\n",
       "      <td>0.0</td>\n",
       "      <td>3.0</td>\n",
       "      <td>False</td>\n",
       "      <td>False</td>\n",
       "    </tr>\n",
       "    <tr>\n",
       "      <th>2</th>\n",
       "      <td>1.0</td>\n",
       "      <td>2312.0</td>\n",
       "      <td>2008-05-19</td>\n",
       "      <td>series-c+</td>\n",
       "      <td>25000000.0</td>\n",
       "      <td>0.0</td>\n",
       "      <td>4.0</td>\n",
       "      <td>True</td>\n",
       "      <td>False</td>\n",
       "    </tr>\n",
       "    <tr>\n",
       "      <th>3</th>\n",
       "      <td>NaN</td>\n",
       "      <td>NaN</td>\n",
       "      <td>NaT</td>\n",
       "      <td>NaN</td>\n",
       "      <td>NaN</td>\n",
       "      <td>NaN</td>\n",
       "      <td>NaN</td>\n",
       "      <td>True</td>\n",
       "      <td>True</td>\n",
       "    </tr>\n",
       "    <tr>\n",
       "      <th>4</th>\n",
       "      <td>NaN</td>\n",
       "      <td>NaN</td>\n",
       "      <td>NaT</td>\n",
       "      <td>NaN</td>\n",
       "      <td>NaN</td>\n",
       "      <td>NaN</td>\n",
       "      <td>NaN</td>\n",
       "      <td>True</td>\n",
       "      <td>True</td>\n",
       "    </tr>\n",
       "  </tbody>\n",
       "</table>\n",
       "</div>"
      ],
      "text/plain": [
       "   company_id  funding_round_id  funded_at funding_round_type  raised_amount  \\\n",
       "0         1.0             888.0 2005-10-01           series-a      5250000.0   \n",
       "1         1.0             889.0 2007-01-01           series-b      9500000.0   \n",
       "2         1.0            2312.0 2008-05-19          series-c+     25000000.0   \n",
       "3         NaN               NaN        NaT                NaN            NaN   \n",
       "4         NaN               NaN        NaT                NaN            NaN   \n",
       "\n",
       "   pre_money_valuation  participants  is_first_round  is_last_round  \n",
       "0                  0.0           2.0           False           True  \n",
       "1                  0.0           3.0           False          False  \n",
       "2                  0.0           4.0            True          False  \n",
       "3                  NaN           NaN            True           True  \n",
       "4                  NaN           NaN            True           True  "
      ]
     },
     "execution_count": 49,
     "metadata": {},
     "output_type": "execute_result"
    }
   ],
   "source": [
    "# Информация о раундах \n",
    "round_columns = [\n",
    "    'company_id_2', 'funding_round_id', 'funded_at',\n",
    "    'funding_round_type', 'raised_amount', 'pre_money_valuation',\n",
    "    'participants', 'is_first_round', 'is_last_round'\n",
    "]\n",
    "\n",
    "rounds_df = company_and_rounds[round_columns].rename(columns={'company_id_2': 'company_id'})\n",
    "rounds_df.head()"
   ]
  },
  {
   "cell_type": "code",
   "execution_count": 50,
   "metadata": {},
   "outputs": [
    {
     "name": "stdout",
     "output_type": "stream",
     "text": [
      "Уникальных компаний: 196553\n",
      "Записей о раундах: 217774\n",
      "Уникальных компаний с раундами: 31939\n"
     ]
    }
   ],
   "source": [
    "# Проверяем результаты разделения\n",
    "print(f\"Уникальных компаний: {company_df['company_id'].nunique()}\")\n",
    "print(f\"Записей о раундах: {len(rounds_df)}\")\n",
    "print(f\"Уникальных компаний с раундами: {rounds_df ['company_id'].nunique()}\")"
   ]
  },
  {
   "cell_type": "code",
   "execution_count": 51,
   "metadata": {},
   "outputs": [
    {
     "name": "stdout",
     "output_type": "stream",
     "text": [
      "Доля компаний без информации о раундах: 83.75%\n"
     ]
    }
   ],
   "source": [
    "no_rounds_share = (1 - 31939 / 196553) * 100\n",
    "print(f\"Доля компаний без информации о раундах: {no_rounds_share:.2f}%\")"
   ]
  },
  {
   "cell_type": "markdown",
   "metadata": {
    "id": "tJ6Sl6MKrJg1",
    "vscode": {
     "languageId": "plaintext"
    }
   },
   "source": [
    "В рамках анализа датасета company_and_rounds.csv я выполнила разделение информации на две логически связанные таблицы:\n",
    "\n",
    "- companies — информация о 196 553 уникальных компаниях.\n",
    "- rounds — данные о 217 774 инвестиционных раундах, связанных с 31 939 компаниями.\n",
    "\n",
    "Большинство компаний 83.75% не имеют информации о раундах финансирования. Это может быть связано с тем, что:\n",
    "- компании либо не привлекали инвестиции;\n",
    "- либо данные по раундам для них отсутствуют;"
   ]
  },
  {
   "cell_type": "markdown",
   "metadata": {},
   "source": [
    "Вывод\n",
    "\n",
    "В ходе подготовки данных из датасета company_and_rounds была выделена отдельная таблица с компаниями и отдельная таблица с раундами финансирования. Это позволило сохранить максимальную информативность, обеспечив целостность и удобство анализа."
   ]
  },
  {
   "cell_type": "markdown",
   "metadata": {},
   "source": [
    "<div class=\"alert alert-block alert-success\">\n",
    "<h2> Комментарий ревьюера v. 2 ✔️</h2>\n",
    "    \n",
    "Отлично, данные для дальнейшего анализа стартапов готовы и это отлично. 👍👍👍\n",
    "</div>"
   ]
  },
  {
   "cell_type": "markdown",
   "metadata": {
    "id": "bmVYhphNrJg2"
   },
   "source": [
    "\n",
    "## Шаг 3. Исследовательский анализ объединённых таблиц\n",
    "\n",
    "> Приступите к шагу 3 после проверки ревьюера.\n",
    "\n",
    "<big>Студентам нужно чётко сказать - проверять дальше или не проверять.</big>"
   ]
  },
  {
   "cell_type": "markdown",
   "metadata": {
    "id": "3Di6tCT3rJg2"
   },
   "source": [
    "\n",
    "### 3.1. Объединение данных\n",
    "\n",
    "Объедините данные для ответа на вопросы заказчика, которые касаются интересующих его компаний. Заказчика прежде всего интересуют те компании, которые меняли или готовы менять владельцев. Получение инвестиций или финансирования, по мнению заказчика, означает интерес к покупке или продаже компании.\n",
    "\n",
    "В качестве основы для объединённой таблицы возьмите данные из обработанного датасета `company_and_rounds.csv` — выберите только те компании, у которых указаны значения `funding_rounds` или `investment_rounds` больше нуля, или те, у которых в колонке `status` указано `acquired`. В результирующей таблице должно получиться порядка 40 тысяч компаний.\n",
    "\n",
    "Проверьте полноту и корректность получившейся таблицы. Далее работайте только с этими данными."
   ]
  },
  {
   "cell_type": "markdown",
   "metadata": {},
   "source": [
    "Для начала выберем company_df из предыдущего пункта и будем работать с ним, тк там отражены данные о компаниях и представлены нужные столбцы, для начала проверим их"
   ]
  },
  {
   "cell_type": "code",
   "execution_count": 52,
   "metadata": {
    "id": "kuV1b5MXFg3_"
   },
   "outputs": [
    {
     "data": {
      "text/plain": [
       "Index(['company_id', 'name', 'category_code', 'status', 'founded_at',\n",
       "       'closed_at', 'domain', 'network_username', 'country_code',\n",
       "       'investment_rounds', 'funding_rounds', 'funding_total', 'milestones'],\n",
       "      dtype='object')"
      ]
     },
     "execution_count": 52,
     "metadata": {},
     "output_type": "execute_result"
    }
   ],
   "source": [
    "company_df.columns"
   ]
  },
  {
   "cell_type": "markdown",
   "metadata": {
    "id": "93v3fEX5FgtP"
   },
   "source": [
    "Теперь добавим условия "
   ]
  },
  {
   "cell_type": "code",
   "execution_count": 53,
   "metadata": {},
   "outputs": [
    {
     "name": "stdout",
     "output_type": "stream",
     "text": [
      "Количество строк после фильтрации: 40747\n"
     ]
    }
   ],
   "source": [
    "company_df = company_df[\n",
    "    (company_df['funding_rounds'] > 0) |\n",
    "    (company_df['investment_rounds'] > 0) |\n",
    "    (company_df['status'] == 'acquired')\n",
    "]\n",
    "print(f\"Количество строк после фильтрации: {len(company_df)}\")"
   ]
  },
  {
   "cell_type": "markdown",
   "metadata": {},
   "source": [
    "<div class=\"alert alert-block alert-success\">\n",
    "<h2> Комментарий ревьюера v. 3 ✔️</h2>\n",
    "    \n",
    "Да, фильтрация компаний выполнена верно 👍👍👍\n",
    "</div>"
   ]
  },
  {
   "cell_type": "code",
   "execution_count": 54,
   "metadata": {},
   "outputs": [
    {
     "name": "stdout",
     "output_type": "stream",
     "text": [
      "<class 'pandas.core.frame.DataFrame'>\n",
      "Int64Index: 40747 entries, 0 to 217469\n",
      "Data columns (total 13 columns):\n",
      " #   Column             Non-Null Count  Dtype         \n",
      "---  ------             --------------  -----         \n",
      " 0   company_id         40747 non-null  float64       \n",
      " 1   name               40747 non-null  object        \n",
      " 2   category_code      35315 non-null  object        \n",
      " 3   status             40747 non-null  object        \n",
      " 4   founded_at         27807 non-null  datetime64[ns]\n",
      " 5   closed_at          2128 non-null   datetime64[ns]\n",
      " 6   domain             35754 non-null  object        \n",
      " 7   network_username   20850 non-null  object        \n",
      " 8   country_code       34742 non-null  object        \n",
      " 9   investment_rounds  40747 non-null  float64       \n",
      " 10  funding_rounds     40747 non-null  float64       \n",
      " 11  funding_total      40747 non-null  float64       \n",
      " 12  milestones         40747 non-null  float64       \n",
      "dtypes: datetime64[ns](2), float64(5), object(6)\n",
      "memory usage: 4.4+ MB\n"
     ]
    }
   ],
   "source": [
    "# Проверим таблицу\n",
    "#display(company_df) \n",
    "company_df.info()"
   ]
  },
  {
   "cell_type": "code",
   "execution_count": 55,
   "metadata": {},
   "outputs": [
    {
     "data": {
      "text/plain": [
       "company_id               0\n",
       "name                     0\n",
       "category_code         5432\n",
       "status                   0\n",
       "founded_at           12940\n",
       "closed_at            38619\n",
       "domain                4993\n",
       "network_username     19897\n",
       "country_code          6005\n",
       "investment_rounds        0\n",
       "funding_rounds           0\n",
       "funding_total            0\n",
       "milestones               0\n",
       "dtype: int64"
      ]
     },
     "execution_count": 55,
     "metadata": {},
     "output_type": "execute_result"
    }
   ],
   "source": [
    "company_df.isna().sum()"
   ]
  },
  {
   "cell_type": "code",
   "execution_count": 56,
   "metadata": {},
   "outputs": [
    {
     "name": "stdout",
     "output_type": "stream",
     "text": [
      "closed_at            94.777530\n",
      "network_username     48.830589\n",
      "founded_at           31.756939\n",
      "country_code         14.737281\n",
      "category_code        13.331043\n",
      "domain               12.253663\n",
      "company_id            0.000000\n",
      "name                  0.000000\n",
      "status                0.000000\n",
      "investment_rounds     0.000000\n",
      "funding_rounds        0.000000\n",
      "funding_total         0.000000\n",
      "milestones            0.000000\n",
      "dtype: float64\n"
     ]
    }
   ],
   "source": [
    "missing_data = company_df.isna().mean().sort_values(ascending=False) * 100\n",
    "print(missing_data)"
   ]
  },
  {
   "cell_type": "markdown",
   "metadata": {},
   "source": [
    "Проанлизируем - что же делать с пропусками\n",
    "- closed_at - не трогать, тк большинство компаний всё ещё работают — это не ошибка\n",
    "- network_username - не трогаю, тк не повлияет на аналтз\n",
    "- founded_at - Посмотрю далее пригодоться ли для расчетов\n",
    "- category_code - поставлю заглушку\n",
    "- country_code - тоже\n"
   ]
  },
  {
   "cell_type": "code",
   "execution_count": 57,
   "metadata": {},
   "outputs": [],
   "source": [
    "company_df['category_code'] = company_df['category_code'].fillna('unknown')\n",
    "company_df['country_code'] = company_df['country_code'].fillna('unknown')\n",
    "\n",
    "#Пока под вопросом\n",
    "#company_df = company_df[~company_df['founded_at'].isna()]"
   ]
  },
  {
   "cell_type": "code",
   "execution_count": 58,
   "metadata": {},
   "outputs": [
    {
     "name": "stdout",
     "output_type": "stream",
     "text": [
      "0\n"
     ]
    }
   ],
   "source": [
    "# Полные дубликаты строк\n",
    "duplicates = company_df.duplicated().sum()\n",
    "print(duplicates)"
   ]
  },
  {
   "cell_type": "markdown",
   "metadata": {},
   "source": [
    "Проверили пропуски, проверили дубликаты\n",
    "- поставила заглушки\n",
    "- проверила типы данных - все корректно\n",
    "\n",
    "Теперь можем продолжать работат с данными"
   ]
  },
  {
   "cell_type": "markdown",
   "metadata": {},
   "source": [
    "Получили 40747 строк"
   ]
  },
  {
   "cell_type": "markdown",
   "metadata": {},
   "source": [
    "<div class=\"alert alert-block alert-success\">\n",
    "<h2> Комментарий ревьюера v. 3 ✔️</h2>\n",
    "    \n",
    "Молодец, что проанализировала прпоуски и дубликаты , а также подсчитала число получившихся компаний.\n",
    "</div>"
   ]
  },
  {
   "cell_type": "markdown",
   "metadata": {
    "id": "DFHINkV3rJg2"
   },
   "source": [
    "\n",
    "### 3.2. Анализ выбросов\n",
    "\n",
    "Заказчика интересует обычный для рассматриваемого периода размер средств, который предоставлялся компаниям.\n",
    "\n",
    "- По предобработанному столбцу `funding_total` графическим способом оцените, какой размер общего финансирования для одной компании будет типичным, а какой — выбивающимся.\n",
    "- В процессе расчёта значений обратите внимание, например, на показатели, возвращаемые методом `.describe()`, — объясните их. Применимы ли к таким данным обычные способы нахождения типичных значений?"
   ]
  },
  {
   "cell_type": "code",
   "execution_count": 59,
   "metadata": {
    "id": "8jm75fKXrJg2",
    "vscode": {
     "languageId": "plaintext"
    }
   },
   "outputs": [
    {
     "data": {
      "image/png": "[encoded data removed]",
      "text/plain": [
       "<Figure size 720x360 with 1 Axes>"
      ]
     },
     "metadata": {
      "needs_background": "light"
     },
     "output_type": "display_data"
    }
   ],
   "source": [
    "# Пркдварительно исключим нули при построении графика\n",
    "funding_total = company_df[company_df['funding_total'] > 0]['funding_total']\n",
    "\n",
    "# Построение гистограммы логарифма\n",
    "# Пояснение - почему график с log - cжимает большие значения, делает распределение более симметричным и читаемым\n",
    "plt.figure(figsize=(10,5))\n",
    "sns.histplot(np.log10(funding_total), bins=100, kde=True)\n",
    "plt.title('Логарифм общего финансирования компаний (log10)')\n",
    "plt.xlabel('Log10(funding_total)')\n",
    "plt.ylabel('Количество компаний')\n",
    "plt.show()"
   ]
  },
  {
   "cell_type": "code",
   "execution_count": 60,
   "metadata": {},
   "outputs": [
    {
     "data": {
      "image/png": "[encoded data removed]",
      "text/plain": [
       "<Figure size 864x144 with 1 Axes>"
      ]
     },
     "metadata": {
      "needs_background": "light"
     },
     "output_type": "display_data"
    }
   ],
   "source": [
    "funding_total = company_df[company_df['funding_total'] > 0]['funding_total']\n",
    "\n",
    "# Построим boxplot\n",
    "plt.figure(figsize=(12, 2))\n",
    "sns.boxplot(x=funding_total)\n",
    "\n",
    "plt.title('Boxplot финансирования')\n",
    "plt.xlabel('Сумма финансирования')\n",
    "plt.show()"
   ]
  },
  {
   "cell_type": "markdown",
   "metadata": {},
   "source": [
    "<div class=\"alert alert-block alert-success\">\n",
    "<h2> Комментарий ревьюера v. 3 ✔️</h2>\n",
    "    \n",
    "Дополнительные материалы по “ящикам с усами”: https://builtin.com/data-science/boxplot\n",
    "\n",
    "Подробнее про типы распределений можно посмотреть: https://machinelearningmastery.com/statistical-data-distributions/\n",
    "</div>"
   ]
  },
  {
   "cell_type": "code",
   "execution_count": 61,
   "metadata": {
    "id": "S1jrfr7rFhcw"
   },
   "outputs": [
    {
     "name": "stdout",
     "output_type": "stream",
     "text": [
      "count    2.787400e+04\n",
      "mean     1.481652e+07\n",
      "std      6.775936e+07\n",
      "min      2.910000e+02\n",
      "25%      5.000000e+05\n",
      "50%      2.564500e+06\n",
      "75%      1.100000e+07\n",
      "max      5.700000e+09\n",
      "Name: funding_total, dtype: float64\n"
     ]
    }
   ],
   "source": [
    "print(funding_total.describe())"
   ]
  },
  {
   "cell_type": "markdown",
   "metadata": {},
   "source": [
    "Вывод:\n",
    "- Расппеделение сильно скошенное, те среднее 1.481652e+07, а медиана 2.564500e+06\n",
    "- Такое распределение обычно относится к данным, у которых срдеди небольших значений присутствуют большие данные\n",
    "- График построен с log - cжимает большие значения, делает распределение более симметричным и читаемым\n",
    "- График приближен к нормальному распределению , именно колокообразную форму\n",
    "- Также построила график \"Ящик с усами\" - чтобы было лучще видно выбросы"
   ]
  },
  {
   "cell_type": "markdown",
   "metadata": {},
   "source": [
    "<div class=\"alert alert-block alert-success\">\n",
    "<h2> Комментарий ревьюера v. 3 ✔️</h2>\n",
    "    \n",
    "Ты верно отметила скошенность распределения и можно сделать вывод, что так как распределение отлично отнормального,  то показательна будет медиана, а не среднее значение.\n",
    "</div>"
   ]
  },
  {
   "cell_type": "markdown",
   "metadata": {
    "id": "JqkRAQrIrJg2"
   },
   "source": [
    "\n",
    "### 3.3. Куплены забесплатно?\n",
    "\n",
    "- Исследуйте компании, которые были проданы за ноль или за один доллар, и при этом известно, что у них был ненулевой общий объём финансирования.\n",
    "\n",
    "- Рассчитайте аналитически верхнюю и нижнюю границу выбросов для столбца `funding_total` и укажите, каким процентилям границы соответствуют."
   ]
  },
  {
   "cell_type": "code",
   "execution_count": 62,
   "metadata": {},
   "outputs": [
    {
     "name": "stdout",
     "output_type": "stream",
     "text": [
      "['company_id', 'name', 'category_code', 'status', 'founded_at', 'closed_at', 'domain', 'network_username', 'country_code', 'investment_rounds', 'funding_rounds', 'funding_total', 'milestones']\n"
     ]
    }
   ],
   "source": [
    "print(company_df.columns.tolist())  # Полный список столбцов"
   ]
  },
  {
   "cell_type": "code",
   "execution_count": 63,
   "metadata": {},
   "outputs": [
    {
     "data": {
      "text/html": [
       "<div>\n",
       "<style scoped>\n",
       "    .dataframe tbody tr th:only-of-type {\n",
       "        vertical-align: middle;\n",
       "    }\n",
       "\n",
       "    .dataframe tbody tr th {\n",
       "        vertical-align: top;\n",
       "    }\n",
       "\n",
       "    .dataframe thead th {\n",
       "        text-align: right;\n",
       "    }\n",
       "</style>\n",
       "<table border=\"1\" class=\"dataframe\">\n",
       "  <thead>\n",
       "    <tr style=\"text-align: right;\">\n",
       "      <th></th>\n",
       "      <th>company_id</th>\n",
       "      <th>name</th>\n",
       "      <th>category_code</th>\n",
       "      <th>status</th>\n",
       "      <th>founded_at</th>\n",
       "      <th>closed_at</th>\n",
       "      <th>domain</th>\n",
       "      <th>network_username</th>\n",
       "      <th>country_code</th>\n",
       "      <th>investment_rounds</th>\n",
       "      <th>funding_rounds</th>\n",
       "      <th>funding_total</th>\n",
       "      <th>milestones</th>\n",
       "      <th>id</th>\n",
       "      <th>acquiring_company_id</th>\n",
       "      <th>acquired_company_id</th>\n",
       "      <th>term_code</th>\n",
       "      <th>price_amount</th>\n",
       "      <th>acquired_at</th>\n",
       "    </tr>\n",
       "  </thead>\n",
       "  <tbody>\n",
       "    <tr>\n",
       "      <th>0</th>\n",
       "      <td>10.0</td>\n",
       "      <td>Flektor</td>\n",
       "      <td>games_video</td>\n",
       "      <td>acquired</td>\n",
       "      <td>NaT</td>\n",
       "      <td>NaT</td>\n",
       "      <td>flektor.com</td>\n",
       "      <td>NaN</td>\n",
       "      <td>USA</td>\n",
       "      <td>0.0</td>\n",
       "      <td>0.0</td>\n",
       "      <td>0.0</td>\n",
       "      <td>0.0</td>\n",
       "      <td>1</td>\n",
       "      <td>11</td>\n",
       "      <td>10</td>\n",
       "      <td>unknow</td>\n",
       "      <td>20000000</td>\n",
       "      <td>2007-05-30</td>\n",
       "    </tr>\n",
       "    <tr>\n",
       "      <th>1</th>\n",
       "      <td>100.0</td>\n",
       "      <td>There</td>\n",
       "      <td>games_video</td>\n",
       "      <td>acquired</td>\n",
       "      <td>NaT</td>\n",
       "      <td>NaT</td>\n",
       "      <td>there.com</td>\n",
       "      <td>NaN</td>\n",
       "      <td>USA</td>\n",
       "      <td>0.0</td>\n",
       "      <td>0.0</td>\n",
       "      <td>0.0</td>\n",
       "      <td>4.0</td>\n",
       "      <td>20</td>\n",
       "      <td>377</td>\n",
       "      <td>100</td>\n",
       "      <td>cash</td>\n",
       "      <td>0</td>\n",
       "      <td>2005-05-29</td>\n",
       "    </tr>\n",
       "    <tr>\n",
       "      <th>2</th>\n",
       "      <td>1001.0</td>\n",
       "      <td>FriendFeed</td>\n",
       "      <td>web</td>\n",
       "      <td>acquired</td>\n",
       "      <td>2007-10-01</td>\n",
       "      <td>NaT</td>\n",
       "      <td>friendfeed.com</td>\n",
       "      <td>friendfeed</td>\n",
       "      <td>USA</td>\n",
       "      <td>0.0</td>\n",
       "      <td>1.0</td>\n",
       "      <td>5000000.0</td>\n",
       "      <td>3.0</td>\n",
       "      <td>1901</td>\n",
       "      <td>5</td>\n",
       "      <td>1001</td>\n",
       "      <td>cash_and_stock</td>\n",
       "      <td>47500000</td>\n",
       "      <td>2009-08-10</td>\n",
       "    </tr>\n",
       "    <tr>\n",
       "      <th>3</th>\n",
       "      <td>10014.0</td>\n",
       "      <td>Mobclix</td>\n",
       "      <td>mobile</td>\n",
       "      <td>acquired</td>\n",
       "      <td>2008-03-01</td>\n",
       "      <td>NaT</td>\n",
       "      <td>mobclix.com</td>\n",
       "      <td>mobclix</td>\n",
       "      <td>USA</td>\n",
       "      <td>0.0</td>\n",
       "      <td>1.0</td>\n",
       "      <td>0.0</td>\n",
       "      <td>4.0</td>\n",
       "      <td>3878</td>\n",
       "      <td>23054</td>\n",
       "      <td>10014</td>\n",
       "      <td>unknow</td>\n",
       "      <td>0</td>\n",
       "      <td>2010-09-30</td>\n",
       "    </tr>\n",
       "    <tr>\n",
       "      <th>4</th>\n",
       "      <td>100265.0</td>\n",
       "      <td>Coastal Supply Company</td>\n",
       "      <td>unknown</td>\n",
       "      <td>acquired</td>\n",
       "      <td>NaT</td>\n",
       "      <td>NaT</td>\n",
       "      <td>NaN</td>\n",
       "      <td>NaN</td>\n",
       "      <td>unknown</td>\n",
       "      <td>0.0</td>\n",
       "      <td>0.0</td>\n",
       "      <td>0.0</td>\n",
       "      <td>1.0</td>\n",
       "      <td>6106</td>\n",
       "      <td>38215</td>\n",
       "      <td>100265</td>\n",
       "      <td>unknow</td>\n",
       "      <td>0</td>\n",
       "      <td>2011-09-06</td>\n",
       "    </tr>\n",
       "  </tbody>\n",
       "</table>\n",
       "</div>"
      ],
      "text/plain": [
       "   company_id                    name category_code    status founded_at  \\\n",
       "0        10.0                 Flektor   games_video  acquired        NaT   \n",
       "1       100.0                   There   games_video  acquired        NaT   \n",
       "2      1001.0              FriendFeed           web  acquired 2007-10-01   \n",
       "3     10014.0                 Mobclix        mobile  acquired 2008-03-01   \n",
       "4    100265.0  Coastal Supply Company       unknown  acquired        NaT   \n",
       "\n",
       "  closed_at          domain network_username country_code  investment_rounds  \\\n",
       "0       NaT     flektor.com              NaN          USA                0.0   \n",
       "1       NaT       there.com              NaN          USA                0.0   \n",
       "2       NaT  friendfeed.com       friendfeed          USA                0.0   \n",
       "3       NaT     mobclix.com          mobclix          USA                0.0   \n",
       "4       NaT             NaN              NaN      unknown                0.0   \n",
       "\n",
       "   funding_rounds  funding_total  milestones    id  acquiring_company_id  \\\n",
       "0             0.0            0.0         0.0     1                    11   \n",
       "1             0.0            0.0         4.0    20                   377   \n",
       "2             1.0      5000000.0         3.0  1901                     5   \n",
       "3             1.0            0.0         4.0  3878                 23054   \n",
       "4             0.0            0.0         1.0  6106                 38215   \n",
       "\n",
       "   acquired_company_id       term_code  price_amount acquired_at  \n",
       "0                   10          unknow      20000000  2007-05-30  \n",
       "1                  100            cash             0  2005-05-29  \n",
       "2                 1001  cash_and_stock      47500000  2009-08-10  \n",
       "3                10014          unknow             0  2010-09-30  \n",
       "4               100265          unknow             0  2011-09-06  "
      ]
     },
     "execution_count": 63,
     "metadata": {},
     "output_type": "execute_result"
    }
   ],
   "source": [
    "acquisition_company_df = pd.merge(\n",
    "        company_df,\n",
    "        acquisition,\n",
    "         left_on='company_id',\n",
    "        right_on='acquired_company_id',\n",
    "        how='inner'  # Только компании, которые были куплены\n",
    ")\n",
    "acquisition_company_df.head()"
   ]
  },
  {
   "cell_type": "code",
   "execution_count": 64,
   "metadata": {},
   "outputs": [
    {
     "data": {
      "text/plain": [
       "Index(['company_id', 'name', 'category_code', 'status', 'founded_at',\n",
       "       'closed_at', 'domain', 'network_username', 'country_code',\n",
       "       'investment_rounds', 'funding_rounds', 'funding_total', 'milestones',\n",
       "       'id', 'acquiring_company_id', 'acquired_company_id', 'term_code',\n",
       "       'price_amount', 'acquired_at'],\n",
       "      dtype='object')"
      ]
     },
     "execution_count": 64,
     "metadata": {},
     "output_type": "execute_result"
    }
   ],
   "source": [
    "acquisition_company_df.columns"
   ]
  },
  {
   "cell_type": "code",
   "execution_count": 65,
   "metadata": {},
   "outputs": [
    {
     "name": "stdout",
     "output_type": "stream",
     "text": [
      "Количество компаний, купленных за 0 , 1 с финансированием: 1618\n"
     ]
    }
   ],
   "source": [
    "acquired_for_nothing = acquisition_company_df[\n",
    "    (acquisition_company_df['price_amount'].isin([0, 1])) &\n",
    "    (acquisition_company_df['funding_total'] > 0)\n",
    "]\n",
    "\n",
    "print(f\"Количество компаний, купленных за 0 , 1 с финансированием: {len(acquired_for_nothing)}\")"
   ]
  },
  {
   "cell_type": "markdown",
   "metadata": {},
   "source": [
    "<div class=\"alert alert-block alert-success\">\n",
    "<h2> Комментарий ревьюера v. 3 ✔️</h2>\n",
    "    \n",
    "Можно предположить, что суммы финансирования равные или близкие к нулю могут быть в случае формальности продажи или для убыточных стартапов. Аномально большие суммы могут предложить очень успешным стартапам с большими перспективами развития.\n",
    "</div>"
   ]
  },
  {
   "cell_type": "code",
   "execution_count": 66,
   "metadata": {},
   "outputs": [
    {
     "name": "stdout",
     "output_type": "stream",
     "text": [
      "count    1.618000e+03\n",
      "mean     1.815296e+07\n",
      "std      1.445030e+08\n",
      "min      3.750000e+03\n",
      "25%      2.000000e+06\n",
      "50%      6.000000e+06\n",
      "75%      1.550000e+07\n",
      "max      5.700000e+09\n",
      "Name: funding_total, dtype: float64\n"
     ]
    }
   ],
   "source": [
    "# Напишем описательную статистику\n",
    "print(acquired_for_nothing['funding_total'].describe())"
   ]
  },
  {
   "cell_type": "code",
   "execution_count": 67,
   "metadata": {},
   "outputs": [
    {
     "name": "stdout",
     "output_type": "stream",
     "text": [
      "Нижняя граница выбросов: -18250000.0\n",
      "Верхняя граница выбросов: 35750000.0\n"
     ]
    }
   ],
   "source": [
    "Q1 = acquired_for_nothing['funding_total'].quantile(0.25)\n",
    "Q3 = acquired_for_nothing['funding_total'].quantile(0.75)\n",
    "IQR = Q3 - Q1 # Ищем межквартильный размах\n",
    "lower = Q1 - 1.5 * IQR\n",
    "upper = Q3 + 1.5 * IQR\n",
    "\n",
    "print(f\"Нижняя граница выбросов: {lower}\")\n",
    "print(f\"Верхняя граница выбросов: {upper}\")\n"
   ]
  },
  {
   "cell_type": "code",
   "execution_count": 68,
   "metadata": {},
   "outputs": [
    {
     "name": "stdout",
     "output_type": "stream",
     "text": [
      "Нижняя граница соответствует 0.00% компаний\n",
      "Верхняя граница соответствует 90.91% компаний\n"
     ]
    }
   ],
   "source": [
    "lower_percentile = (acquired_for_nothing['funding_total'] < lower).mean() * 100\n",
    "upper_percentile = (acquired_for_nothing['funding_total'] > upper).mean() * 100\n",
    "\n",
    "print(f\"Нижняя граница соответствует {lower_percentile:.2f}% компаний\")\n",
    "print(f\"Верхняя граница соответствует {100 - upper_percentile:.2f}% компаний\")\n"
   ]
  },
  {
   "cell_type": "markdown",
   "metadata": {},
   "source": [
    "Выводы:\n",
    "- 90.91% из них имели аномально высокие суммы финансирования выше 35,75 (Верхняя граница выбромлв)\n",
    "- Нижняя граница: –18250000 — отрицательная (нереальна, значит нижние выбросы отсутствуют)\n",
    "- Компаний с funding_total ниже нижней границы — 0% (что логично: значения не бывают отрицательными)."
   ]
  },
  {
   "cell_type": "markdown",
   "metadata": {},
   "source": [
    "<div class=\"alert alert-block alert-success\">\n",
    "<h2> Комментарий ревьюера v. 3 ✔️</h2>\n",
    "    \n",
    "Отлично, выбросы проанализированы и границы определены. Метод IQR подходит для вычисления границ выбросов, но есть и другие методы например, z-score (https://www.geeksforgeeks.org/z-score-in-statistics/).\n",
    "</div>"
   ]
  },
  {
   "cell_type": "markdown",
   "metadata": {
    "id": "mEiWpROjrJg2"
   },
   "source": [
    "\n",
    "### 3.4. Цены стартапов по категориям\n",
    "\n",
    "Категории стартапов с типично высокими ценами покупки стартапов и значительным разбросом цен могут быть привлекательными для крупных инвесторов, которые готовы к высоким рискам ради потенциально больших доходов. Среди категорий стартапов выделите категории стартапов, характеризующиеся:\n",
    "\n",
    "- типично высокими ценами;\n",
    "- и наибольшим разбросом цен за стартап.\n",
    "\n",
    "Объясните, почему решили составить топ именно из такого числа категорий и почему рассчитывали именно так."
   ]
  },
  {
   "cell_type": "code",
   "execution_count": 69,
   "metadata": {},
   "outputs": [
    {
     "data": {
      "text/plain": [
       "Index(['company_id', 'name', 'category_code', 'status', 'founded_at',\n",
       "       'closed_at', 'domain', 'network_username', 'country_code',\n",
       "       'investment_rounds', 'funding_rounds', 'funding_total', 'milestones',\n",
       "       'id', 'acquiring_company_id', 'acquired_company_id', 'term_code',\n",
       "       'price_amount', 'acquired_at'],\n",
       "      dtype='object')"
      ]
     },
     "execution_count": 69,
     "metadata": {},
     "output_type": "execute_result"
    }
   ],
   "source": [
    "# Проверяем название столбцов\n",
    "acquisition_company_df.columns"
   ]
  },
  {
   "cell_type": "code",
   "execution_count": 70,
   "metadata": {},
   "outputs": [],
   "source": [
    "#Оставим только сделки с ценой > 0\n",
    "acquired_nonfree_df = acquisition_company_df[acquisition_company_df['price_amount'] > 0]"
   ]
  },
  {
   "cell_type": "code",
   "execution_count": 71,
   "metadata": {},
   "outputs": [
    {
     "name": "stdout",
     "output_type": "stream",
     "text": [
      "Количество строк: 38\n",
      "       category_code  deal_count  median_price    mean_price     std_price\n",
      "0        advertising          84      60000000  2.596701e+08  4.954839e+08\n",
      "1          analytics           3     200000000  1.810000e+08  9.296774e+07\n",
      "2         automotive           3    2400000000  2.547667e+09  2.581669e+09\n",
      "3            biotech         263     200000000  7.359153e+08  1.968195e+09\n",
      "4          cleantech          39     185000000  4.823162e+08  8.744196e+08\n",
      "5         consulting          32      32150000  2.936716e+08  1.018109e+09\n",
      "6          ecommerce          50     157500000  2.415162e+08  2.814255e+08\n",
      "7          education           6      16250000  1.333150e+08  2.883294e+08\n",
      "8         enterprise         116      54750000  2.295955e+10  2.413581e+11\n",
      "9            fashion           3     195000000  1.875000e+08  8.649422e+07\n",
      "10           finance          20     171500000  6.043975e+08  1.052920e+09\n",
      "11       games_video          88      58250000  4.459379e+08  1.463478e+09\n",
      "12          hardware          78      76000000  2.799422e+08  6.450874e+08\n",
      "13            health          10     140000000  1.065050e+09  1.927100e+09\n",
      "14       hospitality           7      57500000  4.403429e+08  7.906006e+08\n",
      "15             local           1      16140200  1.614020e+07           NaN\n",
      "16     manufacturing          21     351000000  8.137572e+08  1.060435e+09\n",
      "17           medical           4     165000000  1.691250e+08  1.659058e+08\n",
      "18         messaging           5     100000000  7.760000e+07  6.907460e+07\n",
      "19            mobile         117      56000000  3.529187e+08  1.319472e+09\n",
      "20             music           3       4860000  9.528667e+07  1.599781e+08\n",
      "21          nanotech           1     584000000  5.840000e+08           NaN\n",
      "22   network_hosting          64     102500000  3.755397e+08  6.769568e+08\n",
      "23              news           9      40000000  9.088889e+07  1.008553e+08\n",
      "24             other          84      71550000  5.287721e+08  2.060861e+09\n",
      "25       photo_video           5      50000000  2.393940e+08  4.311422e+08\n",
      "26  public_relations          74     110000000  1.820631e+09  6.854338e+09\n",
      "27       real_estate           6     400000000  1.465500e+09  2.676302e+09\n",
      "28            search          19      90000000  2.011684e+08  3.395802e+08\n",
      "29          security          36     164500000  6.028958e+08  1.378442e+09\n",
      "30     semiconductor          71     100000000  4.421154e+08  1.122025e+09\n",
      "31            social           4      45750000  6.312500e+07  6.295286e+07\n",
      "32          software         403      48140000  3.907541e+08  1.204059e+09\n",
      "33            sports           2     622500000  6.225000e+08  5.126524e+08\n",
      "34    transportation           3     230000000  4.500000e+08  5.726255e+08\n",
      "35            travel           4      62500000  8.125000e+07  9.526586e+07\n",
      "36           unknown         475      14800000  2.532854e+08  1.424624e+09\n",
      "37               web         260      55500000  2.767767e+08  6.954405e+08\n"
     ]
    }
   ],
   "source": [
    "# Группировка по категориям (category_code) Вычисляем: median_price, std_price\n",
    "\n",
    "category_stats = acquired_nonfree_df.groupby('category_code').agg(\n",
    "    deal_count=('price_amount', 'count'),\n",
    "    median_price=('price_amount', 'median'),\n",
    "    mean_price=('price_amount', 'mean'),\n",
    "    std_price=('price_amount', 'std')\n",
    ").reset_index()\n",
    "\n",
    "print(f\"Количество строк: {len(category_stats)}\")\n",
    "print(category_stats)"
   ]
  },
  {
   "cell_type": "code",
   "execution_count": 72,
   "metadata": {},
   "outputs": [
    {
     "name": "stdout",
     "output_type": "stream",
     "text": [
      "Количество строк: 21\n"
     ]
    }
   ],
   "source": [
    "filtered_category_stats = category_stats[category_stats['deal_count'] >= 10]\n",
    "print(f\"Количество строк: {len(filtered_category_stats)}\")"
   ]
  },
  {
   "cell_type": "code",
   "execution_count": 73,
   "metadata": {},
   "outputs": [
    {
     "name": "stdout",
     "output_type": "stream",
     "text": [
      "       category_code  deal_count  median_price    mean_price     std_price\n",
      "16     manufacturing          21     351000000  8.137572e+08  1.060435e+09\n",
      "3            biotech         263     200000000  7.359153e+08  1.968195e+09\n",
      "4          cleantech          39     185000000  4.823162e+08  8.744196e+08\n",
      "10           finance          20     171500000  6.043975e+08  1.052920e+09\n",
      "29          security          36     164500000  6.028958e+08  1.378442e+09\n",
      "8         enterprise         116      54750000  2.295955e+10  2.413581e+11\n",
      "26  public_relations          74     110000000  1.820631e+09  6.854338e+09\n",
      "24             other          84      71550000  5.287721e+08  2.060861e+09\n",
      "13            health          10     140000000  1.065050e+09  1.927100e+09\n"
     ]
    }
   ],
   "source": [
    "top_by_median = filtered_category_stats.sort_values(by='median_price', ascending=False).head(5)\n",
    "top_by_std = filtered_category_stats.sort_values(by='std_price', ascending=False).head(5)\n",
    "\n",
    "# Объединённый список топ-категорий (уникальные)\n",
    "top_combined = pd.concat([top_by_median, top_by_std]).drop_duplicates(subset='category_code')\n",
    "print(top_combined)"
   ]
  },
  {
   "cell_type": "code",
   "execution_count": 74,
   "metadata": {
    "id": "jQ09dYUWrJg2",
    "vscode": {
     "languageId": "plaintext"
    }
   },
   "outputs": [
    {
     "name": "stdout",
     "output_type": "stream",
     "text": [
      "Количество строк: 21\n",
      "       category_code  deal_count  median_price    mean_price     std_price\n",
      "16     manufacturing          21     351000000  8.137572e+08  1.060435e+09\n",
      "3            biotech         263     200000000  7.359153e+08  1.968195e+09\n",
      "4          cleantech          39     185000000  4.823162e+08  8.744196e+08\n",
      "10           finance          20     171500000  6.043975e+08  1.052920e+09\n",
      "29          security          36     164500000  6.028958e+08  1.378442e+09\n",
      "6          ecommerce          50     157500000  2.415162e+08  2.814255e+08\n",
      "13            health          10     140000000  1.065050e+09  1.927100e+09\n",
      "26  public_relations          74     110000000  1.820631e+09  6.854338e+09\n",
      "22   network_hosting          64     102500000  3.755397e+08  6.769568e+08\n",
      "30     semiconductor          71     100000000  4.421154e+08  1.122025e+09\n",
      "28            search          19      90000000  2.011684e+08  3.395802e+08\n",
      "12          hardware          78      76000000  2.799422e+08  6.450874e+08\n",
      "24             other          84      71550000  5.287721e+08  2.060861e+09\n",
      "0        advertising          84      60000000  2.596701e+08  4.954839e+08\n",
      "11       games_video          88      58250000  4.459379e+08  1.463478e+09\n",
      "19            mobile         117      56000000  3.529187e+08  1.319472e+09\n",
      "37               web         260      55500000  2.767767e+08  6.954405e+08\n",
      "8         enterprise         116      54750000  2.295955e+10  2.413581e+11\n",
      "32          software         403      48140000  3.907541e+08  1.204059e+09\n",
      "5         consulting          32      32150000  2.936716e+08  1.018109e+09\n",
      "36           unknown         475      14800000  2.532854e+08  1.424624e+09\n"
     ]
    }
   ],
   "source": [
    "top_median = filtered_category_stats.sort_values(by='median_price', ascending=False)\n",
    "print(f\"Количество строк: {len(top_median)}\")\n",
    "print(top_median)"
   ]
  },
  {
   "cell_type": "code",
   "execution_count": 75,
   "metadata": {},
   "outputs": [
    {
     "name": "stdout",
     "output_type": "stream",
     "text": [
      "Количество строк: 21\n",
      "       category_code  deal_count  median_price    mean_price     std_price\n",
      "8         enterprise         116      54750000  2.295955e+10  2.413581e+11\n",
      "26  public_relations          74     110000000  1.820631e+09  6.854338e+09\n",
      "24             other          84      71550000  5.287721e+08  2.060861e+09\n",
      "3            biotech         263     200000000  7.359153e+08  1.968195e+09\n",
      "13            health          10     140000000  1.065050e+09  1.927100e+09\n",
      "11       games_video          88      58250000  4.459379e+08  1.463478e+09\n",
      "36           unknown         475      14800000  2.532854e+08  1.424624e+09\n",
      "29          security          36     164500000  6.028958e+08  1.378442e+09\n",
      "19            mobile         117      56000000  3.529187e+08  1.319472e+09\n",
      "32          software         403      48140000  3.907541e+08  1.204059e+09\n",
      "30     semiconductor          71     100000000  4.421154e+08  1.122025e+09\n",
      "16     manufacturing          21     351000000  8.137572e+08  1.060435e+09\n",
      "10           finance          20     171500000  6.043975e+08  1.052920e+09\n",
      "5         consulting          32      32150000  2.936716e+08  1.018109e+09\n",
      "4          cleantech          39     185000000  4.823162e+08  8.744196e+08\n",
      "37               web         260      55500000  2.767767e+08  6.954405e+08\n",
      "22   network_hosting          64     102500000  3.755397e+08  6.769568e+08\n",
      "12          hardware          78      76000000  2.799422e+08  6.450874e+08\n",
      "0        advertising          84      60000000  2.596701e+08  4.954839e+08\n",
      "28            search          19      90000000  2.011684e+08  3.395802e+08\n",
      "6          ecommerce          50     157500000  2.415162e+08  2.814255e+08\n"
     ]
    }
   ],
   "source": [
    "top_std = filtered_category_stats.sort_values(by='std_price', ascending=False)\n",
    "print(f\"Количество строк: {len(top_std)}\")\n",
    "print(top_std)"
   ]
  },
  {
   "cell_type": "code",
   "execution_count": 76,
   "metadata": {},
   "outputs": [
    {
     "name": "stdout",
     "output_type": "stream",
     "text": [
      "    category_code  deal_count  median_price    mean_price     std_price\n",
      "16  manufacturing          21     351000000  8.137572e+08  1.060435e+09\n",
      "3         biotech         263     200000000  7.359153e+08  1.968195e+09\n",
      "4       cleantech          39     185000000  4.823162e+08  8.744196e+08\n",
      "10        finance          20     171500000  6.043975e+08  1.052920e+09\n",
      "29       security          36     164500000  6.028958e+08  1.378442e+09\n",
      "       category_code  deal_count  median_price    mean_price     std_price\n",
      "8         enterprise         116      54750000  2.295955e+10  2.413581e+11\n",
      "26  public_relations          74     110000000  1.820631e+09  6.854338e+09\n",
      "24             other          84      71550000  5.287721e+08  2.060861e+09\n",
      "3            biotech         263     200000000  7.359153e+08  1.968195e+09\n",
      "13            health          10     140000000  1.065050e+09  1.927100e+09\n"
     ]
    }
   ],
   "source": [
    "print(top_median.head(5))\n",
    "print(top_std.head(5))"
   ]
  },
  {
   "cell_type": "markdown",
   "metadata": {
    "id": "eF1aULm5FjfY"
   },
   "source": [
    "Какаие выводы можно сделать?\n",
    "- Enterprise выбивается в лидеры с огромным разбросом\n",
    "- Категории biotech, health, public_relations также демонстрируют большой диапазон цен — от недорогих до очень дорогих, что говорит о высокой неопределённости и разнообразии проектов в этих областях.\n",
    "- Manufacturing, Finance, Security — типично дорогие, но не такие \"разбросанные\".\n",
    "\n",
    "\n",
    "- Для крупных инвесторов стоит присмотреться к категориям biotech, cleantech, finance, и security — они показывают высокую медианную цену покупки.\n",
    "Если готовы идти на риск ради потенциальной прибыли — biotech и public_relations интересны также из-за сильного разброса цен.\n",
    "\n",
    "\n",
    "Если std намного больше медианы → данные сильно разбросаны с выбросами.\n",
    "\n",
    "Если std близко к медиане → распределение более компактно"
   ]
  },
  {
   "cell_type": "markdown",
   "metadata": {},
   "source": [
    "<div class=\"alert alert-block alert-success\">\n",
    "<h2> Комментарий ревьюера v. 3 ✔️</h2>\n",
    "    \n",
    "Да, высокий разброс цен может говорить о том, что инвестировать в данную категорию стартапов рисковано, но с другой стороны в случае успешного выбора есть возможность получить более высокий доход чем в случае инвестирования в менее рискованную категорию стартапов.\n",
    "</div>"
   ]
  },
  {
   "cell_type": "markdown",
   "metadata": {
    "id": "ADOfyVY_rJg3"
   },
   "source": [
    "\n",
    "### 3.5. Сколько раундов продержится стартап перед покупкой\n",
    "\n",
    "- Необходимо проанализировать столбец `funding_rounds`. Исследуйте значения столбца. Заказчика интересует типичное значение количества раундов для каждого возможного статуса стартапа.\n",
    "- Постройте график, который отображает, сколько в среднем раундов финансирования проходило для стартапов из каждой группы. Сделайте выводы."
   ]
  },
  {
   "cell_type": "code",
   "execution_count": 77,
   "metadata": {},
   "outputs": [
    {
     "data": {
      "text/plain": [
       "operating    28621\n",
       "acquired      9394\n",
       "closed        2092\n",
       "ipo            640\n",
       "Name: status, dtype: int64"
      ]
     },
     "execution_count": 77,
     "metadata": {},
     "output_type": "execute_result"
    }
   ],
   "source": [
    "# Посмотрим, сколько компаний в каждом статусе\n",
    "company_df['status'].value_counts()"
   ]
  },
  {
   "cell_type": "code",
   "execution_count": 78,
   "metadata": {},
   "outputs": [
    {
     "name": "stdout",
     "output_type": "stream",
     "text": [
      "      status      mean  median  count\n",
      "0   acquired  0.523526     0.0   9394\n",
      "1     closed  1.381453     1.0   2092\n",
      "2        ipo  1.934375     1.0    640\n",
      "3  operating  1.522658     1.0  28621\n"
     ]
    }
   ],
   "source": [
    "status_funding_stats = company_df.groupby('status')['funding_rounds'].agg(['mean', 'median', 'count']).reset_index()\n",
    "print(status_funding_stats)"
   ]
  },
  {
   "cell_type": "code",
   "execution_count": 79,
   "metadata": {},
   "outputs": [
    {
     "data": {
      "image/png": "[encoded data removed]",
      "text/plain": [
       "<Figure size 720x432 with 1 Axes>"
      ]
     },
     "metadata": {
      "needs_background": "light"
     },
     "output_type": "display_data"
    }
   ],
   "source": [
    "plt.figure(figsize=(10, 6))\n",
    "sns.barplot(data=status_funding_stats, x='status', y='mean')\n",
    "plt.title('Среднее количество раундов финансирования по статусу компании')\n",
    "plt.ylabel('Среднее число раундов')\n",
    "plt.xlabel('Статус стартапа')\n",
    "plt.grid(axis='y')\n",
    "plt.show()"
   ]
  },
  {
   "cell_type": "markdown",
   "metadata": {},
   "source": [
    "Вывод:\n",
    "- acquired - cамые низкие показатели (в среднем 0.52 раунда, медиана 0).\n",
    "- closed - 1.38 раунда в среднем (медиана 1).\n",
    "- ipo - Почти 2 раунда в среднем (максимум среди всех групп).\n",
    "- operating - Среднее значение выше, чем у приобретённых, но ниже, чем у IPO.\n",
    "\n",
    "\n",
    "- Самые \"дешёвые\" для покупки стартапы — те, что не привлекали инвестиций (медиана = 0).\n",
    "- IPO-компании проходят больше раундов, что связано с их масштабированием.\n",
    "- Закрытые стартапы чаще пытались привлекать деньги, но это не помогло."
   ]
  },
  {
   "cell_type": "markdown",
   "metadata": {},
   "source": [
    "<div class=\"alert alert-block alert-success\">\n",
    "<h2> Комментарий ревьюера v. 3 ✔️</h2>\n",
    "    \n",
    "До стадии IPO доходят только самые успешные стартапы и соответственно число раундов финансирования, как правило, больше чем у остальных стадий развития стартапов.\n",
    "</div>"
   ]
  },
  {
   "cell_type": "markdown",
   "metadata": {
    "id": "VAFEZ2HBrJg3"
   },
   "source": [
    "\n",
    "## Шаг 4. Итоговый вывод и рекомендации\n",
    "\n",
    "Опишите, что было сделано в проекте, какие были сделаны выводы, подкрепляют ли они друг друга или заставляют сомневаться в полученных результатах."
   ]
  },
  {
   "cell_type": "markdown",
   "metadata": {},
   "source": [
    "В самом начале проекта мы провели \n",
    "- обработку данных,\n",
    "- очистили данные от пропусков,\n",
    "- оценили дубликаты\n",
    "- приняли решение о соединение и разъединение нескольких датасетов\n",
    "  \n",
    "\n",
    "В шаге 3 - Исследовательский анализ объединённых таблиц — был проведён подробный анализ объединённых данных о компаниях, сделках и финансировании. Исследование охватило ключевые бизнес-показатели и дало предварительные ориентиры для принятия инвестиционных решений.\n",
    "\n",
    "Основные выводы:\n",
    "- Покупки за 0 или 1 доллар\n",
    "- Большинство таких сделок касаются стартапов с аномально высоким финансированием (свыше 35 млн долларов).\n",
    "- Biotech — в топе и по медиане, и по разбросу и высокая доходность и высокий риск.\n",
    "- Manufacturing, Finance, Security — дорогие категории, но более стабильные.\n",
    "- Enterprise — колоссальный разброс цен при относительно невысокой медиане → может быть сигналом перегретости или наличия уникальных сделок.\n",
    "- Наименьшее количество раундов — у приобретённых компаний (в среднем 0.52).\n",
    "- Закрытые, действующие и особенно IPO-компании имели большее число раундов:\n",
    "closed — 1.38\n",
    "operating — 1.52\n",
    "ipo — 1.93\n"
   ]
  },
  {
   "cell_type": "markdown",
   "metadata": {},
   "source": [
    "<div class=\"alert alert-block alert-success\">\n",
    "<h2> Комментарий ревьюера v. 3 ✔️</h2>\n",
    "    \n",
    "Молодец, что подробно описала основные результаты проекта, но советую сформулировать отдельно рекомендации по инвестированию в стартапы. Как правило, заказчика в первую очередь по итогам проекта интересуют рекомендации по улучшению эффективности финансирования стартапов.\n",
    "</div>"
   ]
  },
  {
   "cell_type": "code",
   "execution_count": null,
   "metadata": {},
   "outputs": [],
   "source": []
  },
  {
   "cell_type": "code",
   "execution_count": null,
   "metadata": {},
   "outputs": [],
   "source": []
  }
 ],
 "metadata": {
  "ExecuteTimeLog": [
   {
    "duration": 1340,
    "start_time": "2025-06-05T13:53:22.445Z"
   },
   {
    "duration": 63,
    "start_time": "2025-06-05T13:53:23.787Z"
   },
   {
    "duration": 16,
    "start_time": "2025-06-05T13:53:23.852Z"
   },
   {
    "duration": 14,
    "start_time": "2025-06-05T13:53:23.870Z"
   },
   {
    "duration": 16,
    "start_time": "2025-06-05T13:53:23.885Z"
   },
   {
    "duration": 1124,
    "start_time": "2025-06-05T13:53:23.903Z"
   },
   {
    "duration": 128,
    "start_time": "2025-06-05T13:53:25.028Z"
   },
   {
    "duration": 7,
    "start_time": "2025-06-05T13:53:25.158Z"
   },
   {
    "duration": 6,
    "start_time": "2025-06-05T13:53:25.167Z"
   },
   {
    "duration": 34,
    "start_time": "2025-06-05T13:53:25.175Z"
   },
   {
    "duration": 248,
    "start_time": "2025-06-05T13:53:25.210Z"
   },
   {
    "duration": 23,
    "start_time": "2025-06-05T13:53:25.460Z"
   },
   {
    "duration": 65,
    "start_time": "2025-06-05T13:53:25.485Z"
   },
   {
    "duration": 398,
    "start_time": "2025-06-05T13:53:25.552Z"
   },
   {
    "duration": 38,
    "start_time": "2025-06-05T13:53:25.952Z"
   },
   {
    "duration": 3,
    "start_time": "2025-06-05T13:53:25.992Z"
   },
   {
    "duration": 269,
    "start_time": "2025-06-05T13:53:25.997Z"
   },
   {
    "duration": 22,
    "start_time": "2025-06-05T13:53:26.268Z"
   },
   {
    "duration": 84,
    "start_time": "2025-06-05T13:53:26.292Z"
   },
   {
    "duration": 15,
    "start_time": "2025-06-05T13:53:26.377Z"
   },
   {
    "duration": 160,
    "start_time": "2025-06-05T13:53:26.394Z"
   },
   {
    "duration": 17,
    "start_time": "2025-06-05T13:53:26.555Z"
   },
   {
    "duration": 40,
    "start_time": "2025-06-05T13:53:26.574Z"
   },
   {
    "duration": 38,
    "start_time": "2025-06-05T13:53:26.616Z"
   },
   {
    "duration": 197,
    "start_time": "2025-06-05T13:53:26.655Z"
   },
   {
    "duration": 4,
    "start_time": "2025-06-05T13:53:26.854Z"
   },
   {
    "duration": 11,
    "start_time": "2025-06-05T13:53:26.859Z"
   },
   {
    "duration": 17,
    "start_time": "2025-06-05T13:53:26.873Z"
   },
   {
    "duration": 12,
    "start_time": "2025-06-05T13:53:26.891Z"
   },
   {
    "duration": 123,
    "start_time": "2025-06-05T13:53:26.904Z"
   },
   {
    "duration": 25,
    "start_time": "2025-06-05T13:53:27.028Z"
   },
   {
    "duration": 99,
    "start_time": "2025-06-05T13:53:27.055Z"
   },
   {
    "duration": 9,
    "start_time": "2025-06-05T13:53:27.155Z"
   },
   {
    "duration": 113,
    "start_time": "2025-06-05T13:53:27.166Z"
   },
   {
    "duration": 5,
    "start_time": "2025-06-05T13:53:27.281Z"
   },
   {
    "duration": 60,
    "start_time": "2025-06-05T13:53:27.288Z"
   },
   {
    "duration": 8,
    "start_time": "2025-06-05T13:53:27.351Z"
   },
   {
    "duration": 7,
    "start_time": "2025-06-05T13:53:27.361Z"
   },
   {
    "duration": 8,
    "start_time": "2025-06-05T13:53:27.369Z"
   },
   {
    "duration": 38,
    "start_time": "2025-06-05T13:53:27.379Z"
   },
   {
    "duration": 23,
    "start_time": "2025-06-05T13:53:27.448Z"
   },
   {
    "duration": 75,
    "start_time": "2025-06-05T13:53:27.473Z"
   },
   {
    "duration": 13,
    "start_time": "2025-06-05T13:53:27.551Z"
   },
   {
    "duration": 109,
    "start_time": "2025-06-05T13:53:27.565Z"
   },
   {
    "duration": 0,
    "start_time": "2025-06-05T13:53:27.675Z"
   },
   {
    "duration": 0,
    "start_time": "2025-06-05T13:53:27.677Z"
   },
   {
    "duration": 0,
    "start_time": "2025-06-05T13:53:27.678Z"
   },
   {
    "duration": 0,
    "start_time": "2025-06-05T13:53:27.679Z"
   },
   {
    "duration": 0,
    "start_time": "2025-06-05T13:53:27.680Z"
   },
   {
    "duration": 0,
    "start_time": "2025-06-05T13:53:27.681Z"
   },
   {
    "duration": 0,
    "start_time": "2025-06-05T13:53:27.682Z"
   },
   {
    "duration": 0,
    "start_time": "2025-06-05T13:53:27.684Z"
   },
   {
    "duration": 0,
    "start_time": "2025-06-05T13:53:27.685Z"
   },
   {
    "duration": 0,
    "start_time": "2025-06-05T13:53:27.686Z"
   },
   {
    "duration": 1341,
    "start_time": "2025-06-05T15:49:12.447Z"
   },
   {
    "duration": 86,
    "start_time": "2025-06-05T15:49:13.790Z"
   },
   {
    "duration": 11,
    "start_time": "2025-06-05T15:49:13.879Z"
   },
   {
    "duration": 86,
    "start_time": "2025-06-05T15:49:13.892Z"
   },
   {
    "duration": 6,
    "start_time": "2025-06-05T15:49:13.980Z"
   },
   {
    "duration": 1177,
    "start_time": "2025-06-05T15:49:13.988Z"
   },
   {
    "duration": 99,
    "start_time": "2025-06-05T15:49:15.167Z"
   },
   {
    "duration": 4,
    "start_time": "2025-06-05T15:49:15.268Z"
   },
   {
    "duration": 40,
    "start_time": "2025-06-05T15:49:15.273Z"
   },
   {
    "duration": 46,
    "start_time": "2025-06-05T15:49:15.315Z"
   },
   {
    "duration": 262,
    "start_time": "2025-06-05T15:49:15.362Z"
   },
   {
    "duration": 19,
    "start_time": "2025-06-05T15:49:15.628Z"
   },
   {
    "duration": 4,
    "start_time": "2025-06-05T15:49:15.649Z"
   },
   {
    "duration": 372,
    "start_time": "2025-06-05T15:49:15.661Z"
   },
   {
    "duration": 43,
    "start_time": "2025-06-05T15:49:16.034Z"
   },
   {
    "duration": 8,
    "start_time": "2025-06-05T15:49:16.078Z"
   },
   {
    "duration": 245,
    "start_time": "2025-06-05T15:49:16.088Z"
   },
   {
    "duration": 29,
    "start_time": "2025-06-05T15:49:16.334Z"
   },
   {
    "duration": 4,
    "start_time": "2025-06-05T15:49:16.365Z"
   },
   {
    "duration": 8,
    "start_time": "2025-06-05T15:49:16.370Z"
   },
   {
    "duration": 165,
    "start_time": "2025-06-05T15:49:16.379Z"
   },
   {
    "duration": 20,
    "start_time": "2025-06-05T15:49:16.546Z"
   },
   {
    "duration": 41,
    "start_time": "2025-06-05T15:49:16.568Z"
   },
   {
    "duration": 26,
    "start_time": "2025-06-05T15:49:16.610Z"
   },
   {
    "duration": 199,
    "start_time": "2025-06-05T15:49:16.638Z"
   },
   {
    "duration": 4,
    "start_time": "2025-06-05T15:49:16.838Z"
   },
   {
    "duration": 35,
    "start_time": "2025-06-05T15:49:16.844Z"
   },
   {
    "duration": 24,
    "start_time": "2025-06-05T15:49:16.882Z"
   },
   {
    "duration": 11,
    "start_time": "2025-06-05T15:49:16.908Z"
   },
   {
    "duration": 103,
    "start_time": "2025-06-05T15:49:16.921Z"
   },
   {
    "duration": 8,
    "start_time": "2025-06-05T15:49:17.026Z"
   },
   {
    "duration": 34,
    "start_time": "2025-06-05T15:49:17.035Z"
   },
   {
    "duration": 7,
    "start_time": "2025-06-05T15:49:17.071Z"
   },
   {
    "duration": 94,
    "start_time": "2025-06-05T15:49:17.080Z"
   },
   {
    "duration": 4,
    "start_time": "2025-06-05T15:49:17.176Z"
   },
   {
    "duration": 37,
    "start_time": "2025-06-05T15:49:17.181Z"
   },
   {
    "duration": 6,
    "start_time": "2025-06-05T15:49:17.219Z"
   },
   {
    "duration": 288,
    "start_time": "2025-06-05T15:49:17.226Z"
   },
   {
    "duration": 11,
    "start_time": "2025-06-05T15:49:17.515Z"
   },
   {
    "duration": 36,
    "start_time": "2025-06-05T15:49:17.528Z"
   },
   {
    "duration": 23,
    "start_time": "2025-06-05T15:49:17.565Z"
   },
   {
    "duration": 6,
    "start_time": "2025-06-05T15:49:17.589Z"
   },
   {
    "duration": 6,
    "start_time": "2025-06-05T15:49:17.596Z"
   },
   {
    "duration": 121,
    "start_time": "2025-06-05T15:49:17.603Z"
   },
   {
    "duration": 0,
    "start_time": "2025-06-05T15:49:17.725Z"
   },
   {
    "duration": 0,
    "start_time": "2025-06-05T15:49:17.726Z"
   },
   {
    "duration": 0,
    "start_time": "2025-06-05T15:49:17.727Z"
   },
   {
    "duration": 0,
    "start_time": "2025-06-05T15:49:17.728Z"
   },
   {
    "duration": 0,
    "start_time": "2025-06-05T15:49:17.729Z"
   },
   {
    "duration": 0,
    "start_time": "2025-06-05T15:49:17.730Z"
   },
   {
    "duration": 0,
    "start_time": "2025-06-05T15:49:17.731Z"
   },
   {
    "duration": 0,
    "start_time": "2025-06-05T15:49:17.732Z"
   },
   {
    "duration": 0,
    "start_time": "2025-06-05T15:49:17.733Z"
   },
   {
    "duration": 0,
    "start_time": "2025-06-05T15:49:17.734Z"
   },
   {
    "duration": 1246,
    "start_time": "2025-06-07T17:50:57.301Z"
   },
   {
    "duration": 51,
    "start_time": "2025-06-07T17:50:58.549Z"
   },
   {
    "duration": 13,
    "start_time": "2025-06-07T17:50:58.601Z"
   },
   {
    "duration": 8,
    "start_time": "2025-06-07T17:50:58.615Z"
   },
   {
    "duration": 5,
    "start_time": "2025-06-07T17:50:58.625Z"
   },
   {
    "duration": 1099,
    "start_time": "2025-06-07T17:50:58.631Z"
   },
   {
    "duration": 113,
    "start_time": "2025-06-07T17:50:59.732Z"
   },
   {
    "duration": 5,
    "start_time": "2025-06-07T17:50:59.847Z"
   },
   {
    "duration": 57,
    "start_time": "2025-06-07T17:50:59.853Z"
   },
   {
    "duration": 25,
    "start_time": "2025-06-07T17:50:59.912Z"
   },
   {
    "duration": 182,
    "start_time": "2025-06-07T17:50:59.939Z"
   },
   {
    "duration": 19,
    "start_time": "2025-06-07T17:51:00.123Z"
   },
   {
    "duration": 82,
    "start_time": "2025-06-07T17:51:00.144Z"
   },
   {
    "duration": 412,
    "start_time": "2025-06-07T17:51:00.229Z"
   },
   {
    "duration": 42,
    "start_time": "2025-06-07T17:51:00.643Z"
   },
   {
    "duration": 4,
    "start_time": "2025-06-07T17:51:00.687Z"
   },
   {
    "duration": 522,
    "start_time": "2025-06-07T17:51:00.706Z"
   },
   {
    "duration": 27,
    "start_time": "2025-06-07T17:51:01.229Z"
   },
   {
    "duration": 10,
    "start_time": "2025-06-07T17:51:01.258Z"
   },
   {
    "duration": 281,
    "start_time": "2025-06-07T17:51:01.269Z"
   },
   {
    "duration": 18,
    "start_time": "2025-06-07T17:51:01.552Z"
   },
   {
    "duration": 36,
    "start_time": "2025-06-07T17:51:01.572Z"
   },
   {
    "duration": 84,
    "start_time": "2025-06-07T17:51:01.610Z"
   },
   {
    "duration": 394,
    "start_time": "2025-06-07T17:51:01.696Z"
   },
   {
    "duration": 47,
    "start_time": "2025-06-07T17:51:02.092Z"
   },
   {
    "duration": 22,
    "start_time": "2025-06-07T17:51:02.140Z"
   },
   {
    "duration": 284,
    "start_time": "2025-06-07T17:51:02.164Z"
   },
   {
    "duration": 4,
    "start_time": "2025-06-07T17:51:02.450Z"
   },
   {
    "duration": 19,
    "start_time": "2025-06-07T17:51:02.456Z"
   },
   {
    "duration": 22,
    "start_time": "2025-06-07T17:51:02.477Z"
   },
   {
    "duration": 12,
    "start_time": "2025-06-07T17:51:02.501Z"
   },
   {
    "duration": 143,
    "start_time": "2025-06-07T17:51:02.515Z"
   },
   {
    "duration": 8,
    "start_time": "2025-06-07T17:51:02.660Z"
   },
   {
    "duration": 47,
    "start_time": "2025-06-07T17:51:02.670Z"
   },
   {
    "duration": 9,
    "start_time": "2025-06-07T17:51:02.719Z"
   },
   {
    "duration": 238,
    "start_time": "2025-06-07T17:51:02.730Z"
   },
   {
    "duration": 5,
    "start_time": "2025-06-07T17:51:02.969Z"
   },
   {
    "duration": 93,
    "start_time": "2025-06-07T17:51:02.975Z"
   },
   {
    "duration": 7,
    "start_time": "2025-06-07T17:51:03.070Z"
   },
   {
    "duration": 103,
    "start_time": "2025-06-07T17:51:03.079Z"
   },
   {
    "duration": 5,
    "start_time": "2025-06-07T17:51:03.187Z"
   },
   {
    "duration": 30,
    "start_time": "2025-06-07T17:51:03.194Z"
   },
   {
    "duration": 26,
    "start_time": "2025-06-07T17:51:03.226Z"
   },
   {
    "duration": 112,
    "start_time": "2025-06-07T17:51:03.253Z"
   },
   {
    "duration": 24,
    "start_time": "2025-06-07T17:51:03.367Z"
   },
   {
    "duration": 54,
    "start_time": "2025-06-07T17:51:03.393Z"
   },
   {
    "duration": 363,
    "start_time": "2025-06-07T17:51:03.448Z"
   },
   {
    "duration": 79,
    "start_time": "2025-06-07T17:51:03.812Z"
   },
   {
    "duration": 23,
    "start_time": "2025-06-07T17:51:03.906Z"
   },
   {
    "duration": 44,
    "start_time": "2025-06-07T17:51:03.931Z"
   },
   {
    "duration": 4,
    "start_time": "2025-06-07T17:51:03.977Z"
   },
   {
    "duration": 1679,
    "start_time": "2025-06-09T06:52:44.546Z"
   },
   {
    "duration": 111,
    "start_time": "2025-06-09T06:52:46.227Z"
   },
   {
    "duration": 14,
    "start_time": "2025-06-09T06:52:46.340Z"
   },
   {
    "duration": 9,
    "start_time": "2025-06-09T06:52:46.356Z"
   },
   {
    "duration": 8,
    "start_time": "2025-06-09T06:52:46.367Z"
   },
   {
    "duration": 1136,
    "start_time": "2025-06-09T06:52:46.377Z"
   },
   {
    "duration": 113,
    "start_time": "2025-06-09T06:52:47.514Z"
   },
   {
    "duration": 5,
    "start_time": "2025-06-09T06:52:47.629Z"
   },
   {
    "duration": 51,
    "start_time": "2025-06-09T06:52:47.636Z"
   },
   {
    "duration": 23,
    "start_time": "2025-06-09T06:52:47.691Z"
   },
   {
    "duration": 243,
    "start_time": "2025-06-09T06:52:47.716Z"
   },
   {
    "duration": 25,
    "start_time": "2025-06-09T06:52:47.961Z"
   },
   {
    "duration": 9,
    "start_time": "2025-06-09T06:52:47.989Z"
   },
   {
    "duration": 363,
    "start_time": "2025-06-09T06:52:47.999Z"
   },
   {
    "duration": 54,
    "start_time": "2025-06-09T06:52:48.364Z"
   },
   {
    "duration": 4,
    "start_time": "2025-06-09T06:52:48.421Z"
   },
   {
    "duration": 324,
    "start_time": "2025-06-09T06:52:48.427Z"
   },
   {
    "duration": 30,
    "start_time": "2025-06-09T06:52:48.752Z"
   },
   {
    "duration": 14,
    "start_time": "2025-06-09T06:52:48.784Z"
   },
   {
    "duration": 176,
    "start_time": "2025-06-09T06:52:48.800Z"
   },
   {
    "duration": 19,
    "start_time": "2025-06-09T06:52:48.978Z"
   },
   {
    "duration": 20,
    "start_time": "2025-06-09T06:52:48.999Z"
   },
   {
    "duration": 90,
    "start_time": "2025-06-09T06:52:49.021Z"
   },
   {
    "duration": 372,
    "start_time": "2025-06-09T06:52:49.113Z"
   },
   {
    "duration": 37,
    "start_time": "2025-06-09T06:52:49.487Z"
   },
   {
    "duration": 143,
    "start_time": "2025-06-09T06:52:49.525Z"
   },
   {
    "duration": 188,
    "start_time": "2025-06-09T06:52:49.669Z"
   },
   {
    "duration": 5,
    "start_time": "2025-06-09T06:52:49.861Z"
   },
   {
    "duration": 63,
    "start_time": "2025-06-09T06:52:49.875Z"
   },
   {
    "duration": 18,
    "start_time": "2025-06-09T06:52:49.940Z"
   },
   {
    "duration": 11,
    "start_time": "2025-06-09T06:52:49.960Z"
   },
   {
    "duration": 105,
    "start_time": "2025-06-09T06:52:49.973Z"
   },
   {
    "duration": 8,
    "start_time": "2025-06-09T06:52:50.080Z"
   },
   {
    "duration": 55,
    "start_time": "2025-06-09T06:52:50.089Z"
   },
   {
    "duration": 24,
    "start_time": "2025-06-09T06:52:50.145Z"
   },
   {
    "duration": 104,
    "start_time": "2025-06-09T06:52:50.170Z"
   },
   {
    "duration": 4,
    "start_time": "2025-06-09T06:52:50.276Z"
   },
   {
    "duration": 87,
    "start_time": "2025-06-09T06:52:50.281Z"
   },
   {
    "duration": 12,
    "start_time": "2025-06-09T06:52:50.369Z"
   },
   {
    "duration": 68,
    "start_time": "2025-06-09T06:52:50.382Z"
   },
   {
    "duration": 267,
    "start_time": "2025-06-09T06:52:50.452Z"
   },
   {
    "duration": 32,
    "start_time": "2025-06-09T06:52:50.721Z"
   },
   {
    "duration": 36,
    "start_time": "2025-06-09T06:52:50.754Z"
   },
   {
    "duration": 10,
    "start_time": "2025-06-09T06:52:50.793Z"
   },
   {
    "duration": 31,
    "start_time": "2025-06-09T06:52:50.805Z"
   },
   {
    "duration": 51,
    "start_time": "2025-06-09T06:52:50.838Z"
   },
   {
    "duration": 346,
    "start_time": "2025-06-09T06:52:50.890Z"
   },
   {
    "duration": 69,
    "start_time": "2025-06-09T06:52:51.238Z"
   },
   {
    "duration": 23,
    "start_time": "2025-06-09T06:52:51.308Z"
   },
   {
    "duration": 30,
    "start_time": "2025-06-09T06:52:51.333Z"
   },
   {
    "duration": 13,
    "start_time": "2025-06-09T06:52:51.365Z"
   },
   {
    "duration": 80,
    "start_time": "2025-06-09T06:52:51.380Z"
   },
   {
    "duration": 116,
    "start_time": "2025-06-09T06:52:51.462Z"
   },
   {
    "duration": 24,
    "start_time": "2025-06-09T06:52:51.580Z"
   },
   {
    "duration": 74,
    "start_time": "2025-06-09T06:52:51.606Z"
   },
   {
    "duration": 30,
    "start_time": "2025-06-09T06:52:51.682Z"
   },
   {
    "duration": 25,
    "start_time": "2025-06-09T06:52:51.714Z"
   },
   {
    "duration": 64,
    "start_time": "2025-06-09T06:52:51.741Z"
   },
   {
    "duration": 615,
    "start_time": "2025-06-09T06:52:51.806Z"
   },
   {
    "duration": 120,
    "start_time": "2025-06-09T06:52:52.423Z"
   },
   {
    "duration": 8,
    "start_time": "2025-06-09T06:52:52.545Z"
   },
   {
    "duration": 10,
    "start_time": "2025-06-09T06:52:52.554Z"
   },
   {
    "duration": 89,
    "start_time": "2025-06-09T06:52:52.565Z"
   },
   {
    "duration": 70,
    "start_time": "2025-06-09T06:52:52.656Z"
   },
   {
    "duration": 20,
    "start_time": "2025-06-09T06:52:52.728Z"
   },
   {
    "duration": 8,
    "start_time": "2025-06-09T06:52:52.749Z"
   },
   {
    "duration": 12,
    "start_time": "2025-06-09T06:52:52.759Z"
   },
   {
    "duration": 11,
    "start_time": "2025-06-09T06:52:52.772Z"
   },
   {
    "duration": 10,
    "start_time": "2025-06-09T06:52:52.785Z"
   },
   {
    "duration": 8,
    "start_time": "2025-06-09T06:52:52.797Z"
   },
   {
    "duration": 21,
    "start_time": "2025-06-09T06:52:52.806Z"
   },
   {
    "duration": 4,
    "start_time": "2025-06-09T06:52:52.829Z"
   },
   {
    "duration": 12,
    "start_time": "2025-06-09T06:52:52.835Z"
   },
   {
    "duration": 11,
    "start_time": "2025-06-09T06:52:52.848Z"
   },
   {
    "duration": 8,
    "start_time": "2025-06-09T06:52:52.875Z"
   },
   {
    "duration": 14,
    "start_time": "2025-06-09T06:52:52.885Z"
   },
   {
    "duration": 12,
    "start_time": "2025-06-09T06:52:52.901Z"
   },
   {
    "duration": 16,
    "start_time": "2025-06-09T06:52:52.915Z"
   },
   {
    "duration": 190,
    "start_time": "2025-06-09T06:52:52.933Z"
   }
  ],
  "colab": {
   "provenance": []
  },
  "kernelspec": {
   "display_name": "Python 3 (ipykernel)",
   "language": "python",
   "name": "python3"
  },
  "language_info": {
   "codemirror_mode": {
    "name": "ipython",
    "version": 3
   },
   "file_extension": ".py",
   "mimetype": "text/x-python",
   "name": "python",
   "nbconvert_exporter": "python",
   "pygments_lexer": "ipython3",
   "version": "3.9.5"
  },
  "toc": {
   "base_numbering": 1,
   "nav_menu": {},
   "number_sections": true,
   "sideBar": true,
   "skip_h1_title": true,
   "title_cell": "Table of Contents",
   "title_sidebar": "Contents",
   "toc_cell": false,
   "toc_position": {},
   "toc_section_display": true,
   "toc_window_display": false
  }
 },
 "nbformat": 4,
 "nbformat_minor": 4
}
